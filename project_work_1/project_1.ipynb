{
 "cells": [
  {
   "cell_type": "markdown",
   "id": "e4ffa7bf-d897-4853-adb9-7a615cd77936",
   "metadata": {},
   "source": [
    "# Introduction"
   ]
  },
  {
   "cell_type": "markdown",
   "id": "45805aaf-be9c-4250-b87c-9243925749e4",
   "metadata": {},
   "source": [
    "I choosed the following task **Predicting Pulsar Star**.\n",
    "The original competition can be found at https://www.kaggle.com/colearninglounge/predicting-pulsar-starintermediate\n",
    "the original version of the dataset and relevant papers are at https://archive.ics.uci.edu/ml/datasets/HTRU2.\n",
    "\n",
    "**Description**\n",
    "\n",
    "Pulsars are a rare type of Neutron star that produce radio emission detectable here on Earth. They are of considerable scientific interest as probes of space-time, the inter-stellar medium, and states of matter. Machine learning tools are now being used to automatically label pulsar candidates to facilitate rapid analysis. Classification systems in particular are being widely adopted, which treat the candidate data sets as binary classification problems.\n",
    "\n",
    "**Attribute Information:**\n",
    "\n",
    "Each candidate is described by 8 continuous variables, and a single class variable. The first four are simple statistics obtained from the integrated pulse profile (folded profile). This is an array of continuous variables that describe a longitude-resolved version of the signal that has been averaged in both time and frequency . The remaining four variables are similarly obtained from the DM-SNR curve. These are summarised below:\n",
    "\n",
    "1. Mean of the integrated profile.\n",
    "2. Standard deviation of the integrated profile.\n",
    "3. Excess kurtosis of the integrated profile.\n",
    "4. Skewness of the integrated profile.\n",
    "5. Mean of the DM-SNR curve.\n",
    "6. Standard deviation of the DM-SNR curve.\n",
    "7. Excess kurtosis of the DM-SNR curve.\n",
    "8. Skewness of the DM-SNR curve.\n",
    "9. Class\n",
    "\n",
    "**Problem**\n",
    "\n",
    "The task is `Binary classification`. The features are the first 8 parameters in the list above, and the target is the 9th one.\n"
   ]
  },
  {
   "cell_type": "markdown",
   "id": "e8f37b14-b630-470a-8730-859471199140",
   "metadata": {},
   "source": [
    "# I. Data preparation"
   ]
  },
  {
   "cell_type": "markdown",
   "id": "98337148-09c2-4cb8-9add-3892147b52fe",
   "metadata": {},
   "source": [
    "## Pre-preparation"
   ]
  },
  {
   "cell_type": "markdown",
   "id": "28302dfc-4ff3-4b72-a541-57422226288b",
   "metadata": {},
   "source": [
    "There are originally two files for the Kaggle competition:\n",
    "https://www.kaggle.com/colearninglounge/predicting-pulsar-starintermediate\n",
    "\n",
    "* pulsar_data_test.csv ---> For testing and submission\n",
    "* pulsar_data_train.csv ---> For training --- not uploaded for the github page of the lecture\n",
    "\n",
    "In `pulsar_data_test.csv` there aren't included the target values, only the features.\n",
    "This is because, it was the main part of the competition to upload the own predictions on this part of the data to Kaggle.\n",
    "\n",
    "**We will use only the second file both training and testing.**"
   ]
  },
  {
   "cell_type": "code",
   "execution_count": 1,
   "id": "e78963bf-4fd1-49d1-bf52-60b5aebbabc9",
   "metadata": {},
   "outputs": [],
   "source": [
    "# Read the data\n",
    "import pandas as pd\n",
    "df = pd.read_csv(\"https://raw.githubusercontent.com/szbela87/ml_22_elteik/main/data/pulsar_data_train.csv\")"
   ]
  },
  {
   "cell_type": "code",
   "execution_count": 2,
   "id": "72a2873d-baf1-411f-ac94-c339e01b4ea3",
   "metadata": {},
   "outputs": [
    {
     "data": {
      "text/html": [
       "<div>\n",
       "<style scoped>\n",
       "    .dataframe tbody tr th:only-of-type {\n",
       "        vertical-align: middle;\n",
       "    }\n",
       "\n",
       "    .dataframe tbody tr th {\n",
       "        vertical-align: top;\n",
       "    }\n",
       "\n",
       "    .dataframe thead th {\n",
       "        text-align: right;\n",
       "    }\n",
       "</style>\n",
       "<table border=\"1\" class=\"dataframe\">\n",
       "  <thead>\n",
       "    <tr style=\"text-align: right;\">\n",
       "      <th></th>\n",
       "      <th>Mean of the integrated profile</th>\n",
       "      <th>Standard deviation of the integrated profile</th>\n",
       "      <th>Excess kurtosis of the integrated profile</th>\n",
       "      <th>Skewness of the integrated profile</th>\n",
       "      <th>Mean of the DM-SNR curve</th>\n",
       "      <th>Standard deviation of the DM-SNR curve</th>\n",
       "      <th>Excess kurtosis of the DM-SNR curve</th>\n",
       "      <th>Skewness of the DM-SNR curve</th>\n",
       "      <th>target_class</th>\n",
       "    </tr>\n",
       "  </thead>\n",
       "  <tbody>\n",
       "    <tr>\n",
       "      <th>0</th>\n",
       "      <td>121.156250</td>\n",
       "      <td>48.372971</td>\n",
       "      <td>0.375485</td>\n",
       "      <td>-0.013165</td>\n",
       "      <td>3.168896</td>\n",
       "      <td>18.399367</td>\n",
       "      <td>7.449874</td>\n",
       "      <td>65.159298</td>\n",
       "      <td>0.0</td>\n",
       "    </tr>\n",
       "    <tr>\n",
       "      <th>1</th>\n",
       "      <td>76.968750</td>\n",
       "      <td>36.175557</td>\n",
       "      <td>0.712898</td>\n",
       "      <td>3.388719</td>\n",
       "      <td>2.399666</td>\n",
       "      <td>17.570997</td>\n",
       "      <td>9.414652</td>\n",
       "      <td>102.722975</td>\n",
       "      <td>0.0</td>\n",
       "    </tr>\n",
       "    <tr>\n",
       "      <th>2</th>\n",
       "      <td>130.585938</td>\n",
       "      <td>53.229534</td>\n",
       "      <td>0.133408</td>\n",
       "      <td>-0.297242</td>\n",
       "      <td>2.743311</td>\n",
       "      <td>22.362553</td>\n",
       "      <td>8.508364</td>\n",
       "      <td>74.031324</td>\n",
       "      <td>0.0</td>\n",
       "    </tr>\n",
       "    <tr>\n",
       "      <th>3</th>\n",
       "      <td>156.398438</td>\n",
       "      <td>48.865942</td>\n",
       "      <td>-0.215989</td>\n",
       "      <td>-0.171294</td>\n",
       "      <td>17.471572</td>\n",
       "      <td>NaN</td>\n",
       "      <td>2.958066</td>\n",
       "      <td>7.197842</td>\n",
       "      <td>0.0</td>\n",
       "    </tr>\n",
       "    <tr>\n",
       "      <th>4</th>\n",
       "      <td>84.804688</td>\n",
       "      <td>36.117659</td>\n",
       "      <td>0.825013</td>\n",
       "      <td>3.274125</td>\n",
       "      <td>2.790134</td>\n",
       "      <td>20.618009</td>\n",
       "      <td>8.405008</td>\n",
       "      <td>76.291128</td>\n",
       "      <td>0.0</td>\n",
       "    </tr>\n",
       "  </tbody>\n",
       "</table>\n",
       "</div>"
      ],
      "text/plain": [
       "    Mean of the integrated profile  \\\n",
       "0                       121.156250   \n",
       "1                        76.968750   \n",
       "2                       130.585938   \n",
       "3                       156.398438   \n",
       "4                        84.804688   \n",
       "\n",
       "    Standard deviation of the integrated profile  \\\n",
       "0                                      48.372971   \n",
       "1                                      36.175557   \n",
       "2                                      53.229534   \n",
       "3                                      48.865942   \n",
       "4                                      36.117659   \n",
       "\n",
       "    Excess kurtosis of the integrated profile  \\\n",
       "0                                    0.375485   \n",
       "1                                    0.712898   \n",
       "2                                    0.133408   \n",
       "3                                   -0.215989   \n",
       "4                                    0.825013   \n",
       "\n",
       "    Skewness of the integrated profile   Mean of the DM-SNR curve  \\\n",
       "0                            -0.013165                   3.168896   \n",
       "1                             3.388719                   2.399666   \n",
       "2                            -0.297242                   2.743311   \n",
       "3                            -0.171294                  17.471572   \n",
       "4                             3.274125                   2.790134   \n",
       "\n",
       "    Standard deviation of the DM-SNR curve  \\\n",
       "0                                18.399367   \n",
       "1                                17.570997   \n",
       "2                                22.362553   \n",
       "3                                      NaN   \n",
       "4                                20.618009   \n",
       "\n",
       "    Excess kurtosis of the DM-SNR curve   Skewness of the DM-SNR curve  \\\n",
       "0                              7.449874                      65.159298   \n",
       "1                              9.414652                     102.722975   \n",
       "2                              8.508364                      74.031324   \n",
       "3                              2.958066                       7.197842   \n",
       "4                              8.405008                      76.291128   \n",
       "\n",
       "   target_class  \n",
       "0           0.0  \n",
       "1           0.0  \n",
       "2           0.0  \n",
       "3           0.0  \n",
       "4           0.0  "
      ]
     },
     "execution_count": 2,
     "metadata": {},
     "output_type": "execute_result"
    }
   ],
   "source": [
    "df.head()"
   ]
  },
  {
   "cell_type": "code",
   "execution_count": 3,
   "id": "e6212b15-c2ee-4f82-9782-bcac568fe6ae",
   "metadata": {},
   "outputs": [
    {
     "data": {
      "text/plain": [
       "12528"
      ]
     },
     "execution_count": 3,
     "metadata": {},
     "output_type": "execute_result"
    }
   ],
   "source": [
    "# The size of the dataset\n",
    "len(df)"
   ]
  },
  {
   "cell_type": "code",
   "execution_count": 4,
   "id": "354fc035-d5c0-471b-90c7-31cb32ca31ed",
   "metadata": {},
   "outputs": [
    {
     "data": {
      "text/plain": [
       " Mean of the integrated profile                     0\n",
       " Standard deviation of the integrated profile       0\n",
       " Excess kurtosis of the integrated profile       1735\n",
       " Skewness of the integrated profile                 0\n",
       " Mean of the DM-SNR curve                           0\n",
       " Standard deviation of the DM-SNR curve          1178\n",
       " Excess kurtosis of the DM-SNR curve                0\n",
       " Skewness of the DM-SNR curve                     625\n",
       "target_class                                        0\n",
       "dtype: int64"
      ]
     },
     "execution_count": 4,
     "metadata": {},
     "output_type": "execute_result"
    }
   ],
   "source": [
    "# There are some missing data\n",
    "df.isnull().sum()"
   ]
  },
  {
   "cell_type": "code",
   "execution_count": 5,
   "id": "94fc5a07-351c-4ee9-8c89-f79d5a126ce2",
   "metadata": {},
   "outputs": [
    {
     "data": {
      "text/plain": [
       "Int64Index([], dtype='int64')"
      ]
     },
     "execution_count": 5,
     "metadata": {},
     "output_type": "execute_result"
    }
   ],
   "source": [
    "# Are there any duplicates?\n",
    "duplicates_index = df[df.duplicated(keep=\"first\")].index\n",
    "duplicates_index"
   ]
  },
  {
   "cell_type": "markdown",
   "id": "b3583a24-b66f-463e-83ea-771844ca983f",
   "metadata": {},
   "source": [
    "There aren't duplicates, but there are missing values."
   ]
  },
  {
   "cell_type": "markdown",
   "id": "3473c2ef-6951-48f9-b797-3b6edb1ab2d8",
   "metadata": {},
   "source": [
    "### Overview: Structure of the Data preparation part.\n",
    "\n",
    "1. Splitting the data to training and testing sets. We'll keep them separately, because testing data should be unseen.\n",
    "2. Data exploration in the training set\n",
    "3. Looking for outliers in the training set and drop them.\n",
    "4. Filling the missing values in the training set, drop the missing values in the test set to get realistic test results.\n",
    "5. Standardizing both datasets with the mean and standard deviation from the training set.\n"
   ]
  },
  {
   "cell_type": "markdown",
   "id": "8f82debe-e79a-48a7-b274-0d3b61e934b6",
   "metadata": {},
   "source": [
    "## 1. Splitting to training and testing sets"
   ]
  },
  {
   "cell_type": "code",
   "execution_count": 6,
   "id": "4ff01237-21b5-46e1-8c8f-efe3ebb13c38",
   "metadata": {},
   "outputs": [],
   "source": [
    "from sklearn.model_selection import train_test_split"
   ]
  },
  {
   "cell_type": "code",
   "execution_count": 7,
   "id": "046dfc5c-12f3-4994-adfb-bf757a84e15e",
   "metadata": {},
   "outputs": [
    {
     "data": {
      "text/plain": [
       "(8769, 3759, 8769, 3759)"
      ]
     },
     "execution_count": 7,
     "metadata": {},
     "output_type": "execute_result"
    }
   ],
   "source": [
    "X = df.drop([\"target_class\"], axis=1)\n",
    "y = df[\"target_class\"]\n",
    "X_train, X_test, y_train, y_test = train_test_split(X, y, test_size=0.3,random_state = 17)\n",
    "len(X_train), len(X_test), len(y_train), len(y_test)"
   ]
  },
  {
   "cell_type": "code",
   "execution_count": 8,
   "id": "80ad9689-1fec-4cb2-b43d-99642eec5be0",
   "metadata": {},
   "outputs": [
    {
     "data": {
      "text/html": [
       "<div>\n",
       "<style scoped>\n",
       "    .dataframe tbody tr th:only-of-type {\n",
       "        vertical-align: middle;\n",
       "    }\n",
       "\n",
       "    .dataframe tbody tr th {\n",
       "        vertical-align: top;\n",
       "    }\n",
       "\n",
       "    .dataframe thead th {\n",
       "        text-align: right;\n",
       "    }\n",
       "</style>\n",
       "<table border=\"1\" class=\"dataframe\">\n",
       "  <thead>\n",
       "    <tr style=\"text-align: right;\">\n",
       "      <th></th>\n",
       "      <th>Mean of the integrated profile</th>\n",
       "      <th>Standard deviation of the integrated profile</th>\n",
       "      <th>Excess kurtosis of the integrated profile</th>\n",
       "      <th>Skewness of the integrated profile</th>\n",
       "      <th>Mean of the DM-SNR curve</th>\n",
       "      <th>Standard deviation of the DM-SNR curve</th>\n",
       "      <th>Excess kurtosis of the DM-SNR curve</th>\n",
       "      <th>Skewness of the DM-SNR curve</th>\n",
       "    </tr>\n",
       "  </thead>\n",
       "  <tbody>\n",
       "    <tr>\n",
       "      <th>12456</th>\n",
       "      <td>85.304688</td>\n",
       "      <td>39.355066</td>\n",
       "      <td>0.788075</td>\n",
       "      <td>1.610646</td>\n",
       "      <td>6.820234</td>\n",
       "      <td>32.081032</td>\n",
       "      <td>5.586737</td>\n",
       "      <td>31.986414</td>\n",
       "    </tr>\n",
       "    <tr>\n",
       "      <th>11463</th>\n",
       "      <td>97.765625</td>\n",
       "      <td>50.088747</td>\n",
       "      <td>0.549925</td>\n",
       "      <td>0.056299</td>\n",
       "      <td>15.503344</td>\n",
       "      <td>46.965057</td>\n",
       "      <td>3.109500</td>\n",
       "      <td>8.689941</td>\n",
       "    </tr>\n",
       "    <tr>\n",
       "      <th>11859</th>\n",
       "      <td>113.476562</td>\n",
       "      <td>47.625978</td>\n",
       "      <td>0.214337</td>\n",
       "      <td>-0.197559</td>\n",
       "      <td>0.906355</td>\n",
       "      <td>10.573975</td>\n",
       "      <td>15.994272</td>\n",
       "      <td>316.340042</td>\n",
       "    </tr>\n",
       "    <tr>\n",
       "      <th>10479</th>\n",
       "      <td>142.734375</td>\n",
       "      <td>45.350800</td>\n",
       "      <td>-0.144942</td>\n",
       "      <td>0.083873</td>\n",
       "      <td>4.137960</td>\n",
       "      <td>21.659153</td>\n",
       "      <td>6.904756</td>\n",
       "      <td>55.309504</td>\n",
       "    </tr>\n",
       "    <tr>\n",
       "      <th>9519</th>\n",
       "      <td>129.695312</td>\n",
       "      <td>56.494269</td>\n",
       "      <td>-0.072876</td>\n",
       "      <td>-0.274919</td>\n",
       "      <td>1.977425</td>\n",
       "      <td>14.894624</td>\n",
       "      <td>9.587471</td>\n",
       "      <td>112.267901</td>\n",
       "    </tr>\n",
       "  </tbody>\n",
       "</table>\n",
       "</div>"
      ],
      "text/plain": [
       "        Mean of the integrated profile  \\\n",
       "12456                        85.304688   \n",
       "11463                        97.765625   \n",
       "11859                       113.476562   \n",
       "10479                       142.734375   \n",
       "9519                        129.695312   \n",
       "\n",
       "        Standard deviation of the integrated profile  \\\n",
       "12456                                      39.355066   \n",
       "11463                                      50.088747   \n",
       "11859                                      47.625978   \n",
       "10479                                      45.350800   \n",
       "9519                                       56.494269   \n",
       "\n",
       "        Excess kurtosis of the integrated profile  \\\n",
       "12456                                    0.788075   \n",
       "11463                                    0.549925   \n",
       "11859                                    0.214337   \n",
       "10479                                   -0.144942   \n",
       "9519                                    -0.072876   \n",
       "\n",
       "        Skewness of the integrated profile   Mean of the DM-SNR curve  \\\n",
       "12456                             1.610646                   6.820234   \n",
       "11463                             0.056299                  15.503344   \n",
       "11859                            -0.197559                   0.906355   \n",
       "10479                             0.083873                   4.137960   \n",
       "9519                             -0.274919                   1.977425   \n",
       "\n",
       "        Standard deviation of the DM-SNR curve  \\\n",
       "12456                                32.081032   \n",
       "11463                                46.965057   \n",
       "11859                                10.573975   \n",
       "10479                                21.659153   \n",
       "9519                                 14.894624   \n",
       "\n",
       "        Excess kurtosis of the DM-SNR curve   Skewness of the DM-SNR curve  \n",
       "12456                              5.586737                      31.986414  \n",
       "11463                              3.109500                       8.689941  \n",
       "11859                             15.994272                     316.340042  \n",
       "10479                              6.904756                      55.309504  \n",
       "9519                               9.587471                     112.267901  "
      ]
     },
     "execution_count": 8,
     "metadata": {},
     "output_type": "execute_result"
    }
   ],
   "source": [
    "X_train.head()"
   ]
  },
  {
   "cell_type": "markdown",
   "id": "a562411c-87d5-475f-a0cc-13e39ca41ad7",
   "metadata": {},
   "source": [
    "## 2. Data exploration in the training set"
   ]
  },
  {
   "cell_type": "code",
   "execution_count": 9,
   "id": "04a7c861-39fb-4d40-b6ec-a6af16f5d761",
   "metadata": {},
   "outputs": [
    {
     "data": {
      "text/plain": [
       " Mean of the integrated profile                     0\n",
       " Standard deviation of the integrated profile       0\n",
       " Excess kurtosis of the integrated profile       1210\n",
       " Skewness of the integrated profile                 0\n",
       " Mean of the DM-SNR curve                           0\n",
       " Standard deviation of the DM-SNR curve           838\n",
       " Excess kurtosis of the DM-SNR curve                0\n",
       " Skewness of the DM-SNR curve                     456\n",
       "dtype: int64"
      ]
     },
     "execution_count": 9,
     "metadata": {},
     "output_type": "execute_result"
    }
   ],
   "source": [
    "X_train.isnull().sum()"
   ]
  },
  {
   "cell_type": "code",
   "execution_count": 10,
   "id": "68d04aee-ccae-4168-b079-80b4cdfa6ef6",
   "metadata": {},
   "outputs": [
    {
     "data": {
      "text/plain": [
       "0"
      ]
     },
     "execution_count": 10,
     "metadata": {},
     "output_type": "execute_result"
    }
   ],
   "source": [
    "y_train.isnull().sum()"
   ]
  },
  {
   "cell_type": "code",
   "execution_count": 11,
   "id": "2d900733-5023-41e3-877e-55edb3c8297f",
   "metadata": {},
   "outputs": [
    {
     "name": "stdout",
     "output_type": "stream",
     "text": [
      "<class 'pandas.core.frame.DataFrame'>\n",
      "Int64Index: 8769 entries, 12456 to 10863\n",
      "Data columns (total 8 columns):\n",
      " #   Column                                         Non-Null Count  Dtype  \n",
      "---  ------                                         --------------  -----  \n",
      " 0    Mean of the integrated profile                8769 non-null   float64\n",
      " 1    Standard deviation of the integrated profile  8769 non-null   float64\n",
      " 2    Excess kurtosis of the integrated profile     7559 non-null   float64\n",
      " 3    Skewness of the integrated profile            8769 non-null   float64\n",
      " 4    Mean of the DM-SNR curve                      8769 non-null   float64\n",
      " 5    Standard deviation of the DM-SNR curve        7931 non-null   float64\n",
      " 6    Excess kurtosis of the DM-SNR curve           8769 non-null   float64\n",
      " 7    Skewness of the DM-SNR curve                  8313 non-null   float64\n",
      "dtypes: float64(8)\n",
      "memory usage: 616.6 KB\n"
     ]
    }
   ],
   "source": [
    "X_train.info()"
   ]
  },
  {
   "cell_type": "code",
   "execution_count": 12,
   "id": "03b065c0-1145-4b6a-bc8b-6981b2ed6b73",
   "metadata": {},
   "outputs": [
    {
     "data": {
      "text/html": [
       "<div>\n",
       "<style scoped>\n",
       "    .dataframe tbody tr th:only-of-type {\n",
       "        vertical-align: middle;\n",
       "    }\n",
       "\n",
       "    .dataframe tbody tr th {\n",
       "        vertical-align: top;\n",
       "    }\n",
       "\n",
       "    .dataframe thead th {\n",
       "        text-align: right;\n",
       "    }\n",
       "</style>\n",
       "<table border=\"1\" class=\"dataframe\">\n",
       "  <thead>\n",
       "    <tr style=\"text-align: right;\">\n",
       "      <th></th>\n",
       "      <th>Mean of the integrated profile</th>\n",
       "      <th>Standard deviation of the integrated profile</th>\n",
       "      <th>Excess kurtosis of the integrated profile</th>\n",
       "      <th>Skewness of the integrated profile</th>\n",
       "      <th>Mean of the DM-SNR curve</th>\n",
       "      <th>Standard deviation of the DM-SNR curve</th>\n",
       "      <th>Excess kurtosis of the DM-SNR curve</th>\n",
       "      <th>Skewness of the DM-SNR curve</th>\n",
       "    </tr>\n",
       "  </thead>\n",
       "  <tbody>\n",
       "    <tr>\n",
       "      <th>count</th>\n",
       "      <td>8769.000000</td>\n",
       "      <td>8769.000000</td>\n",
       "      <td>7559.000000</td>\n",
       "      <td>8769.000000</td>\n",
       "      <td>8769.000000</td>\n",
       "      <td>7931.000000</td>\n",
       "      <td>8769.000000</td>\n",
       "      <td>8313.000000</td>\n",
       "    </tr>\n",
       "    <tr>\n",
       "      <th>mean</th>\n",
       "      <td>111.154326</td>\n",
       "      <td>46.559628</td>\n",
       "      <td>0.478801</td>\n",
       "      <td>1.786235</td>\n",
       "      <td>12.367850</td>\n",
       "      <td>26.256430</td>\n",
       "      <td>8.341213</td>\n",
       "      <td>105.169241</td>\n",
       "    </tr>\n",
       "    <tr>\n",
       "      <th>std</th>\n",
       "      <td>25.782071</td>\n",
       "      <td>6.770964</td>\n",
       "      <td>1.067584</td>\n",
       "      <td>6.200271</td>\n",
       "      <td>28.794741</td>\n",
       "      <td>19.432914</td>\n",
       "      <td>4.503138</td>\n",
       "      <td>105.665527</td>\n",
       "    </tr>\n",
       "    <tr>\n",
       "      <th>min</th>\n",
       "      <td>5.812500</td>\n",
       "      <td>24.772042</td>\n",
       "      <td>-1.707789</td>\n",
       "      <td>-1.791886</td>\n",
       "      <td>0.213211</td>\n",
       "      <td>7.370432</td>\n",
       "      <td>-2.812353</td>\n",
       "      <td>-1.976976</td>\n",
       "    </tr>\n",
       "    <tr>\n",
       "      <th>25%</th>\n",
       "      <td>101.031250</td>\n",
       "      <td>42.469146</td>\n",
       "      <td>0.025261</td>\n",
       "      <td>-0.186037</td>\n",
       "      <td>1.903010</td>\n",
       "      <td>14.370920</td>\n",
       "      <td>5.797639</td>\n",
       "      <td>35.099551</td>\n",
       "    </tr>\n",
       "    <tr>\n",
       "      <th>50%</th>\n",
       "      <td>115.421875</td>\n",
       "      <td>46.996135</td>\n",
       "      <td>0.221792</td>\n",
       "      <td>0.192589</td>\n",
       "      <td>2.801003</td>\n",
       "      <td>18.445896</td>\n",
       "      <td>8.444376</td>\n",
       "      <td>82.994641</td>\n",
       "    </tr>\n",
       "    <tr>\n",
       "      <th>75%</th>\n",
       "      <td>127.304688</td>\n",
       "      <td>50.984255</td>\n",
       "      <td>0.470669</td>\n",
       "      <td>0.933886</td>\n",
       "      <td>5.426421</td>\n",
       "      <td>28.346208</td>\n",
       "      <td>10.765577</td>\n",
       "      <td>140.878300</td>\n",
       "    </tr>\n",
       "    <tr>\n",
       "      <th>max</th>\n",
       "      <td>184.828125</td>\n",
       "      <td>91.206475</td>\n",
       "      <td>8.069522</td>\n",
       "      <td>68.101622</td>\n",
       "      <td>211.948997</td>\n",
       "      <td>110.642211</td>\n",
       "      <td>34.539844</td>\n",
       "      <td>1191.000837</td>\n",
       "    </tr>\n",
       "  </tbody>\n",
       "</table>\n",
       "</div>"
      ],
      "text/plain": [
       "        Mean of the integrated profile  \\\n",
       "count                      8769.000000   \n",
       "mean                        111.154326   \n",
       "std                          25.782071   \n",
       "min                           5.812500   \n",
       "25%                         101.031250   \n",
       "50%                         115.421875   \n",
       "75%                         127.304688   \n",
       "max                         184.828125   \n",
       "\n",
       "        Standard deviation of the integrated profile  \\\n",
       "count                                    8769.000000   \n",
       "mean                                       46.559628   \n",
       "std                                         6.770964   \n",
       "min                                        24.772042   \n",
       "25%                                        42.469146   \n",
       "50%                                        46.996135   \n",
       "75%                                        50.984255   \n",
       "max                                        91.206475   \n",
       "\n",
       "        Excess kurtosis of the integrated profile  \\\n",
       "count                                 7559.000000   \n",
       "mean                                     0.478801   \n",
       "std                                      1.067584   \n",
       "min                                     -1.707789   \n",
       "25%                                      0.025261   \n",
       "50%                                      0.221792   \n",
       "75%                                      0.470669   \n",
       "max                                      8.069522   \n",
       "\n",
       "        Skewness of the integrated profile   Mean of the DM-SNR curve  \\\n",
       "count                          8769.000000                8769.000000   \n",
       "mean                              1.786235                  12.367850   \n",
       "std                               6.200271                  28.794741   \n",
       "min                              -1.791886                   0.213211   \n",
       "25%                              -0.186037                   1.903010   \n",
       "50%                               0.192589                   2.801003   \n",
       "75%                               0.933886                   5.426421   \n",
       "max                              68.101622                 211.948997   \n",
       "\n",
       "        Standard deviation of the DM-SNR curve  \\\n",
       "count                              7931.000000   \n",
       "mean                                 26.256430   \n",
       "std                                  19.432914   \n",
       "min                                   7.370432   \n",
       "25%                                  14.370920   \n",
       "50%                                  18.445896   \n",
       "75%                                  28.346208   \n",
       "max                                 110.642211   \n",
       "\n",
       "        Excess kurtosis of the DM-SNR curve   Skewness of the DM-SNR curve  \n",
       "count                           8769.000000                    8313.000000  \n",
       "mean                               8.341213                     105.169241  \n",
       "std                                4.503138                     105.665527  \n",
       "min                               -2.812353                      -1.976976  \n",
       "25%                                5.797639                      35.099551  \n",
       "50%                                8.444376                      82.994641  \n",
       "75%                               10.765577                     140.878300  \n",
       "max                               34.539844                    1191.000837  "
      ]
     },
     "execution_count": 12,
     "metadata": {},
     "output_type": "execute_result"
    }
   ],
   "source": [
    "X_train.describe()"
   ]
  },
  {
   "cell_type": "code",
   "execution_count": 13,
   "id": "d377b3d6-a46d-4ce6-b0fc-90d66ece3ff0",
   "metadata": {},
   "outputs": [
    {
     "name": "stdout",
     "output_type": "stream",
     "text": [
      "The ratio of the positive samples to the whole dataset: 9.12%\n"
     ]
    }
   ],
   "source": [
    "print(f\"The ratio of the positive samples to the whole dataset: {sum(y_train)/len(y_train)*100:.2f}%\")"
   ]
  },
  {
   "cell_type": "markdown",
   "id": "b59ade43-3cc8-499e-96eb-db0ba86f75be",
   "metadata": {},
   "source": [
    "This means that the dataset is imbalanced. Later we have to solve this for example by SMOTE oversampling."
   ]
  },
  {
   "cell_type": "markdown",
   "id": "025b0209-fb04-4381-8efd-567159cc7bb9",
   "metadata": {},
   "source": [
    "### Plotting"
   ]
  },
  {
   "cell_type": "code",
   "execution_count": 14,
   "id": "f8d56eca-9dd6-4306-b76e-4ad9a546e639",
   "metadata": {},
   "outputs": [],
   "source": [
    "import matplotlib.pyplot as plt\n"
   ]
  },
  {
   "cell_type": "code",
   "execution_count": 15,
   "id": "bd8b5997-c1ca-4cd5-8705-b79c30c76e6b",
   "metadata": {},
   "outputs": [
    {
     "data": {
      "text/plain": [
       "[' Mean of the integrated profile',\n",
       " ' Standard deviation of the integrated profile',\n",
       " ' Excess kurtosis of the integrated profile',\n",
       " ' Skewness of the integrated profile',\n",
       " ' Mean of the DM-SNR curve',\n",
       " ' Standard deviation of the DM-SNR curve',\n",
       " ' Excess kurtosis of the DM-SNR curve',\n",
       " ' Skewness of the DM-SNR curve']"
      ]
     },
     "execution_count": 15,
     "metadata": {},
     "output_type": "execute_result"
    }
   ],
   "source": [
    "column_names = list(X_train.columns)\n",
    "column_names"
   ]
  },
  {
   "cell_type": "markdown",
   "id": "6c273b9e-173e-40d8-b44b-514d228189f4",
   "metadata": {},
   "source": [
    "#### Scatter plots"
   ]
  },
  {
   "cell_type": "code",
   "execution_count": 16,
   "id": "3270fd68-4770-407a-a3a0-33db20e464cb",
   "metadata": {},
   "outputs": [
    {
     "data": {
      "image/png": "[encoded data removed]",
      "text/plain": [
       "<Figure size 360x360 with 1 Axes>"
      ]
     },
     "metadata": {
      "needs_background": "light"
     },
     "output_type": "display_data"
    },
    {
     "data": {
      "image/png": "[encoded data removed]",
      "text/plain": [
       "<Figure size 360x360 with 1 Axes>"
      ]
     },
     "metadata": {
      "needs_background": "light"
     },
     "output_type": "display_data"
    },
    {
     "data": {
      "image/png": "[encoded data removed]",
      "text/plain": [
       "<Figure size 360x360 with 1 Axes>"
      ]
     },
     "metadata": {
      "needs_background": "light"
     },
     "output_type": "display_data"
    },
    {
     "data": {
      "image/png": "[encoded data removed]",
      "text/plain": [
       "<Figure size 360x360 with 1 Axes>"
      ]
     },
     "metadata": {
      "needs_background": "light"
     },
     "output_type": "display_data"
    },
    {
     "data": {
      "image/png": "[encoded data removed]",
      "text/plain": [
       "<Figure size 360x360 with 1 Axes>"
      ]
     },
     "metadata": {
      "needs_background": "light"
     },
     "output_type": "display_data"
    },
    {
     "data": {
      "image/png": "[encoded data removed]",
      "text/plain": [
       "<Figure size 360x360 with 1 Axes>"
      ]
     },
     "metadata": {
      "needs_background": "light"
     },
     "output_type": "display_data"
    },
    {
     "data": {
      "image/png": "[encoded data removed]",
      "text/plain": [
       "<Figure size 360x360 with 1 Axes>"
      ]
     },
     "metadata": {
      "needs_background": "light"
     },
     "output_type": "display_data"
    },
    {
     "data": {
      "image/png": "[encoded data removed]",
      "text/plain": [
       "<Figure size 360x360 with 1 Axes>"
      ]
     },
     "metadata": {
      "needs_background": "light"
     },
     "output_type": "display_data"
    }
   ],
   "source": [
    "for column in column_names:\n",
    "    plt.figure(figsize=(5,5))\n",
    "    plt.scatter(x=X_train[column],y=y_train)\n",
    "    plt.title(f\"Using '{column}'\")\n",
    "    plt.ylabel(\"Class\")"
   ]
  },
  {
   "cell_type": "markdown",
   "id": "cea4468d-c27f-452a-908c-98b41f3f593f",
   "metadata": {},
   "source": [
    "#### Boxplots"
   ]
  },
  {
   "cell_type": "code",
   "execution_count": 17,
   "id": "3c02716a-68fc-47a7-bd01-6e1dc08a1f42",
   "metadata": {},
   "outputs": [],
   "source": [
    "import seaborn as sns\n"
   ]
  },
  {
   "cell_type": "code",
   "execution_count": 18,
   "id": "df95d7de-e03d-4853-882a-7f98f5dade0f",
   "metadata": {},
   "outputs": [
    {
     "data": {
      "image/png": "[encoded data removed]",
      "text/plain": [
       "<Figure size 360x360 with 1 Axes>"
      ]
     },
     "metadata": {
      "needs_background": "light"
     },
     "output_type": "display_data"
    },
    {
     "data": {
      "image/png": "[encoded data removed]",
      "text/plain": [
       "<Figure size 360x360 with 1 Axes>"
      ]
     },
     "metadata": {
      "needs_background": "light"
     },
     "output_type": "display_data"
    },
    {
     "data": {
      "image/png": "[encoded data removed]",
      "text/plain": [
       "<Figure size 360x360 with 1 Axes>"
      ]
     },
     "metadata": {
      "needs_background": "light"
     },
     "output_type": "display_data"
    },
    {
     "data": {
      "image/png": "[encoded data removed]",
      "text/plain": [
       "<Figure size 360x360 with 1 Axes>"
      ]
     },
     "metadata": {
      "needs_background": "light"
     },
     "output_type": "display_data"
    },
    {
     "data": {
      "image/png": "[encoded data removed]",
      "text/plain": [
       "<Figure size 360x360 with 1 Axes>"
      ]
     },
     "metadata": {
      "needs_background": "light"
     },
     "output_type": "display_data"
    },
    {
     "data": {
      "image/png": "[encoded data removed]",
      "text/plain": [
       "<Figure size 360x360 with 1 Axes>"
      ]
     },
     "metadata": {
      "needs_background": "light"
     },
     "output_type": "display_data"
    },
    {
     "data": {
      "image/png": "[encoded data removed]",
      "text/plain": [
       "<Figure size 360x360 with 1 Axes>"
      ]
     },
     "metadata": {
      "needs_background": "light"
     },
     "output_type": "display_data"
    },
    {
     "data": {
      "image/png": "[encoded data removed]",
      "text/plain": [
       "<Figure size 360x360 with 1 Axes>"
      ]
     },
     "metadata": {
      "needs_background": "light"
     },
     "output_type": "display_data"
    }
   ],
   "source": [
    "for column in column_names:\n",
    "    plt.figure(figsize=(5,5))\n",
    "    sns.boxplot(x=y_train,y=df[column])\n",
    "    plt.xlabel(\"Target class\")\n",
    "    plt.title(f\"Boxplot for `{column}`\")"
   ]
  },
  {
   "cell_type": "markdown",
   "id": "eb3ce841-c3fc-4308-b49d-e6bf1038fd2c",
   "metadata": {},
   "source": [
    "#### Histograms"
   ]
  },
  {
   "cell_type": "code",
   "execution_count": 19,
   "id": "5e5958c5-e8bb-4e36-b9f3-96ee000e78a6",
   "metadata": {},
   "outputs": [
    {
     "name": "stderr",
     "output_type": "stream",
     "text": [
      "/tmp/ipykernel_23614/39352217.py:2: UserWarning: To output multiple subplots, the figure containing the passed axes is being cleared\n",
      "  X_train.hist(bins=50, ax=ax)\n"
     ]
    },
    {
     "data": {
      "text/plain": [
       "array([[<AxesSubplot:title={'center':' Mean of the integrated profile'}>,\n",
       "        <AxesSubplot:title={'center':' Standard deviation of the integrated profile'}>,\n",
       "        <AxesSubplot:title={'center':' Excess kurtosis of the integrated profile'}>],\n",
       "       [<AxesSubplot:title={'center':' Skewness of the integrated profile'}>,\n",
       "        <AxesSubplot:title={'center':' Mean of the DM-SNR curve'}>,\n",
       "        <AxesSubplot:title={'center':' Standard deviation of the DM-SNR curve'}>],\n",
       "       [<AxesSubplot:title={'center':' Excess kurtosis of the DM-SNR curve'}>,\n",
       "        <AxesSubplot:title={'center':' Skewness of the DM-SNR curve'}>,\n",
       "        <AxesSubplot:>]], dtype=object)"
      ]
     },
     "execution_count": 19,
     "metadata": {},
     "output_type": "execute_result"
    },
    {
     "data": {
      "image/png": "[encoded data removed]",
      "text/plain": [
       "<Figure size 1080x1080 with 9 Axes>"
      ]
     },
     "metadata": {
      "needs_background": "light"
     },
     "output_type": "display_data"
    }
   ],
   "source": [
    "fig, ax = plt.subplots(figsize=(15, 15))\n",
    "X_train.hist(bins=50, ax=ax)\n"
   ]
  },
  {
   "cell_type": "markdown",
   "id": "8f864ea3-9dcc-4ead-a74f-6416ed066d2d",
   "metadata": {},
   "source": [
    "#### Correlations"
   ]
  },
  {
   "cell_type": "code",
   "execution_count": 20,
   "id": "7585e870-bfda-4aaf-a7a4-34baeb8c8570",
   "metadata": {},
   "outputs": [],
   "source": [
    "df_train = X_train.copy()\n",
    "df_train[\"target_class\"] = y_train"
   ]
  },
  {
   "cell_type": "code",
   "execution_count": 21,
   "id": "899a5bab-4cdd-4f53-921a-ee1f1da0d383",
   "metadata": {},
   "outputs": [
    {
     "data": {
      "text/html": [
       "<div>\n",
       "<style scoped>\n",
       "    .dataframe tbody tr th:only-of-type {\n",
       "        vertical-align: middle;\n",
       "    }\n",
       "\n",
       "    .dataframe tbody tr th {\n",
       "        vertical-align: top;\n",
       "    }\n",
       "\n",
       "    .dataframe thead th {\n",
       "        text-align: right;\n",
       "    }\n",
       "</style>\n",
       "<table border=\"1\" class=\"dataframe\">\n",
       "  <thead>\n",
       "    <tr style=\"text-align: right;\">\n",
       "      <th></th>\n",
       "      <th>Mean of the integrated profile</th>\n",
       "      <th>Standard deviation of the integrated profile</th>\n",
       "      <th>Excess kurtosis of the integrated profile</th>\n",
       "      <th>Skewness of the integrated profile</th>\n",
       "      <th>Mean of the DM-SNR curve</th>\n",
       "      <th>Standard deviation of the DM-SNR curve</th>\n",
       "      <th>Excess kurtosis of the DM-SNR curve</th>\n",
       "      <th>Skewness of the DM-SNR curve</th>\n",
       "      <th>target_class</th>\n",
       "    </tr>\n",
       "  </thead>\n",
       "  <tbody>\n",
       "    <tr>\n",
       "      <th>Mean of the integrated profile</th>\n",
       "      <td>1.000000</td>\n",
       "      <td>0.558374</td>\n",
       "      <td>-0.874387</td>\n",
       "      <td>-0.743867</td>\n",
       "      <td>-0.305898</td>\n",
       "      <td>-0.313378</td>\n",
       "      <td>0.236793</td>\n",
       "      <td>0.150382</td>\n",
       "      <td>-0.682361</td>\n",
       "    </tr>\n",
       "    <tr>\n",
       "      <th>Standard deviation of the integrated profile</th>\n",
       "      <td>0.558374</td>\n",
       "      <td>1.000000</td>\n",
       "      <td>-0.534127</td>\n",
       "      <td>-0.547271</td>\n",
       "      <td>-0.015247</td>\n",
       "      <td>-0.059067</td>\n",
       "      <td>0.034026</td>\n",
       "      <td>0.030011</td>\n",
       "      <td>-0.370298</td>\n",
       "    </tr>\n",
       "    <tr>\n",
       "      <th>Excess kurtosis of the integrated profile</th>\n",
       "      <td>-0.874387</td>\n",
       "      <td>-0.534127</td>\n",
       "      <td>1.000000</td>\n",
       "      <td>0.946440</td>\n",
       "      <td>0.421952</td>\n",
       "      <td>0.439662</td>\n",
       "      <td>-0.342297</td>\n",
       "      <td>-0.218360</td>\n",
       "      <td>0.798872</td>\n",
       "    </tr>\n",
       "    <tr>\n",
       "      <th>Skewness of the integrated profile</th>\n",
       "      <td>-0.743867</td>\n",
       "      <td>-0.547271</td>\n",
       "      <td>0.946440</td>\n",
       "      <td>1.000000</td>\n",
       "      <td>0.426788</td>\n",
       "      <td>0.427451</td>\n",
       "      <td>-0.333764</td>\n",
       "      <td>-0.208810</td>\n",
       "      <td>0.718004</td>\n",
       "    </tr>\n",
       "    <tr>\n",
       "      <th>Mean of the DM-SNR curve</th>\n",
       "      <td>-0.305898</td>\n",
       "      <td>-0.015247</td>\n",
       "      <td>0.421952</td>\n",
       "      <td>0.426788</td>\n",
       "      <td>1.000000</td>\n",
       "      <td>0.803931</td>\n",
       "      <td>-0.615527</td>\n",
       "      <td>-0.358160</td>\n",
       "      <td>0.404433</td>\n",
       "    </tr>\n",
       "    <tr>\n",
       "      <th>Standard deviation of the DM-SNR curve</th>\n",
       "      <td>-0.313378</td>\n",
       "      <td>-0.059067</td>\n",
       "      <td>0.439662</td>\n",
       "      <td>0.427451</td>\n",
       "      <td>0.803931</td>\n",
       "      <td>1.000000</td>\n",
       "      <td>-0.809596</td>\n",
       "      <td>-0.579495</td>\n",
       "      <td>0.492912</td>\n",
       "    </tr>\n",
       "    <tr>\n",
       "      <th>Excess kurtosis of the DM-SNR curve</th>\n",
       "      <td>0.236793</td>\n",
       "      <td>0.034026</td>\n",
       "      <td>-0.342297</td>\n",
       "      <td>-0.333764</td>\n",
       "      <td>-0.615527</td>\n",
       "      <td>-0.809596</td>\n",
       "      <td>1.000000</td>\n",
       "      <td>0.925970</td>\n",
       "      <td>-0.387920</td>\n",
       "    </tr>\n",
       "    <tr>\n",
       "      <th>Skewness of the DM-SNR curve</th>\n",
       "      <td>0.150382</td>\n",
       "      <td>0.030011</td>\n",
       "      <td>-0.218360</td>\n",
       "      <td>-0.208810</td>\n",
       "      <td>-0.358160</td>\n",
       "      <td>-0.579495</td>\n",
       "      <td>0.925970</td>\n",
       "      <td>1.000000</td>\n",
       "      <td>-0.260183</td>\n",
       "    </tr>\n",
       "    <tr>\n",
       "      <th>target_class</th>\n",
       "      <td>-0.682361</td>\n",
       "      <td>-0.370298</td>\n",
       "      <td>0.798872</td>\n",
       "      <td>0.718004</td>\n",
       "      <td>0.404433</td>\n",
       "      <td>0.492912</td>\n",
       "      <td>-0.387920</td>\n",
       "      <td>-0.260183</td>\n",
       "      <td>1.000000</td>\n",
       "    </tr>\n",
       "  </tbody>\n",
       "</table>\n",
       "</div>"
      ],
      "text/plain": [
       "                                                Mean of the integrated profile  \\\n",
       " Mean of the integrated profile                                       1.000000   \n",
       " Standard deviation of the integrated profile                         0.558374   \n",
       " Excess kurtosis of the integrated profile                           -0.874387   \n",
       " Skewness of the integrated profile                                  -0.743867   \n",
       " Mean of the DM-SNR curve                                            -0.305898   \n",
       " Standard deviation of the DM-SNR curve                              -0.313378   \n",
       " Excess kurtosis of the DM-SNR curve                                  0.236793   \n",
       " Skewness of the DM-SNR curve                                         0.150382   \n",
       "target_class                                                         -0.682361   \n",
       "\n",
       "                                                Standard deviation of the integrated profile  \\\n",
       " Mean of the integrated profile                                                     0.558374   \n",
       " Standard deviation of the integrated profile                                       1.000000   \n",
       " Excess kurtosis of the integrated profile                                         -0.534127   \n",
       " Skewness of the integrated profile                                                -0.547271   \n",
       " Mean of the DM-SNR curve                                                          -0.015247   \n",
       " Standard deviation of the DM-SNR curve                                            -0.059067   \n",
       " Excess kurtosis of the DM-SNR curve                                                0.034026   \n",
       " Skewness of the DM-SNR curve                                                       0.030011   \n",
       "target_class                                                                       -0.370298   \n",
       "\n",
       "                                                Excess kurtosis of the integrated profile  \\\n",
       " Mean of the integrated profile                                                 -0.874387   \n",
       " Standard deviation of the integrated profile                                   -0.534127   \n",
       " Excess kurtosis of the integrated profile                                       1.000000   \n",
       " Skewness of the integrated profile                                              0.946440   \n",
       " Mean of the DM-SNR curve                                                        0.421952   \n",
       " Standard deviation of the DM-SNR curve                                          0.439662   \n",
       " Excess kurtosis of the DM-SNR curve                                            -0.342297   \n",
       " Skewness of the DM-SNR curve                                                   -0.218360   \n",
       "target_class                                                                     0.798872   \n",
       "\n",
       "                                                Skewness of the integrated profile  \\\n",
       " Mean of the integrated profile                                          -0.743867   \n",
       " Standard deviation of the integrated profile                            -0.547271   \n",
       " Excess kurtosis of the integrated profile                                0.946440   \n",
       " Skewness of the integrated profile                                       1.000000   \n",
       " Mean of the DM-SNR curve                                                 0.426788   \n",
       " Standard deviation of the DM-SNR curve                                   0.427451   \n",
       " Excess kurtosis of the DM-SNR curve                                     -0.333764   \n",
       " Skewness of the DM-SNR curve                                            -0.208810   \n",
       "target_class                                                              0.718004   \n",
       "\n",
       "                                                Mean of the DM-SNR curve  \\\n",
       " Mean of the integrated profile                                -0.305898   \n",
       " Standard deviation of the integrated profile                  -0.015247   \n",
       " Excess kurtosis of the integrated profile                      0.421952   \n",
       " Skewness of the integrated profile                             0.426788   \n",
       " Mean of the DM-SNR curve                                       1.000000   \n",
       " Standard deviation of the DM-SNR curve                         0.803931   \n",
       " Excess kurtosis of the DM-SNR curve                           -0.615527   \n",
       " Skewness of the DM-SNR curve                                  -0.358160   \n",
       "target_class                                                    0.404433   \n",
       "\n",
       "                                                Standard deviation of the DM-SNR curve  \\\n",
       " Mean of the integrated profile                                              -0.313378   \n",
       " Standard deviation of the integrated profile                                -0.059067   \n",
       " Excess kurtosis of the integrated profile                                    0.439662   \n",
       " Skewness of the integrated profile                                           0.427451   \n",
       " Mean of the DM-SNR curve                                                     0.803931   \n",
       " Standard deviation of the DM-SNR curve                                       1.000000   \n",
       " Excess kurtosis of the DM-SNR curve                                         -0.809596   \n",
       " Skewness of the DM-SNR curve                                                -0.579495   \n",
       "target_class                                                                  0.492912   \n",
       "\n",
       "                                                Excess kurtosis of the DM-SNR curve  \\\n",
       " Mean of the integrated profile                                            0.236793   \n",
       " Standard deviation of the integrated profile                              0.034026   \n",
       " Excess kurtosis of the integrated profile                                -0.342297   \n",
       " Skewness of the integrated profile                                       -0.333764   \n",
       " Mean of the DM-SNR curve                                                 -0.615527   \n",
       " Standard deviation of the DM-SNR curve                                   -0.809596   \n",
       " Excess kurtosis of the DM-SNR curve                                       1.000000   \n",
       " Skewness of the DM-SNR curve                                              0.925970   \n",
       "target_class                                                              -0.387920   \n",
       "\n",
       "                                                Skewness of the DM-SNR curve  \\\n",
       " Mean of the integrated profile                                     0.150382   \n",
       " Standard deviation of the integrated profile                       0.030011   \n",
       " Excess kurtosis of the integrated profile                         -0.218360   \n",
       " Skewness of the integrated profile                                -0.208810   \n",
       " Mean of the DM-SNR curve                                          -0.358160   \n",
       " Standard deviation of the DM-SNR curve                            -0.579495   \n",
       " Excess kurtosis of the DM-SNR curve                                0.925970   \n",
       " Skewness of the DM-SNR curve                                       1.000000   \n",
       "target_class                                                       -0.260183   \n",
       "\n",
       "                                               target_class  \n",
       " Mean of the integrated profile                   -0.682361  \n",
       " Standard deviation of the integrated profile     -0.370298  \n",
       " Excess kurtosis of the integrated profile         0.798872  \n",
       " Skewness of the integrated profile                0.718004  \n",
       " Mean of the DM-SNR curve                          0.404433  \n",
       " Standard deviation of the DM-SNR curve            0.492912  \n",
       " Excess kurtosis of the DM-SNR curve              -0.387920  \n",
       " Skewness of the DM-SNR curve                     -0.260183  \n",
       "target_class                                       1.000000  "
      ]
     },
     "execution_count": 21,
     "metadata": {},
     "output_type": "execute_result"
    }
   ],
   "source": [
    "df_train.corr()"
   ]
  },
  {
   "cell_type": "code",
   "execution_count": 22,
   "id": "741ea851-5016-43b2-965e-43839a8d94e9",
   "metadata": {},
   "outputs": [],
   "source": [
    "import seaborn as sns"
   ]
  },
  {
   "cell_type": "code",
   "execution_count": 23,
   "id": "e21c29ee-dfd7-429c-aae5-90903598645f",
   "metadata": {},
   "outputs": [
    {
     "data": {
      "image/png": "[encoded data removed]",
      "text/plain": [
       "<Figure size 432x288 with 2 Axes>"
      ]
     },
     "metadata": {
      "needs_background": "light"
     },
     "output_type": "display_data"
    }
   ],
   "source": [
    "sns.heatmap(df_train.corr());"
   ]
  },
  {
   "cell_type": "markdown",
   "id": "76feb4bc-d171-4915-b6f5-d9dd934eb61f",
   "metadata": {},
   "source": [
    "There are strong correlations between some parameters."
   ]
  },
  {
   "cell_type": "markdown",
   "id": "89306d4e-c0ac-4be3-9bdf-fab05bd0dded",
   "metadata": {},
   "source": [
    "## 3. Missing values\n",
    "\n",
    "Filling the missing values in the training set, dropping the missing values in the test set to get realistic test results."
   ]
  },
  {
   "cell_type": "code",
   "execution_count": 24,
   "id": "95f80009-f490-4008-99b4-7109f0ca9c3f",
   "metadata": {},
   "outputs": [
    {
     "data": {
      "text/plain": [
       " Mean of the integrated profile                     0\n",
       " Standard deviation of the integrated profile       0\n",
       " Excess kurtosis of the integrated profile       1210\n",
       " Skewness of the integrated profile                 0\n",
       " Mean of the DM-SNR curve                           0\n",
       " Standard deviation of the DM-SNR curve           838\n",
       " Excess kurtosis of the DM-SNR curve                0\n",
       " Skewness of the DM-SNR curve                     456\n",
       "dtype: int64"
      ]
     },
     "execution_count": 24,
     "metadata": {},
     "output_type": "execute_result"
    }
   ],
   "source": [
    "X_train.isnull().sum()"
   ]
  },
  {
   "cell_type": "code",
   "execution_count": 25,
   "id": "c903d733-991a-41c3-af65-124603aeea74",
   "metadata": {},
   "outputs": [],
   "source": [
    "# We replace the NaN values with the median of that column in the corresponding target class.\n",
    "for column in column_names:\n",
    "    df_train[column].fillna(df_train[column].mean(),inplace=True)\n",
    "    #df_train[column] = df_train.groupby([\"target_class\"],sort=False)[column].apply(lambda x: x.fillna(x.median())) # other idea"
   ]
  },
  {
   "cell_type": "code",
   "execution_count": 26,
   "id": "bd14acfc-0fe8-4d63-be6d-3316dda72b31",
   "metadata": {},
   "outputs": [],
   "source": [
    "X_train = df_train.drop([\"target_class\"], axis=1)\n",
    "y_train = df_train[\"target_class\"]"
   ]
  },
  {
   "cell_type": "code",
   "execution_count": 27,
   "id": "f0b01b17-d3b9-48c0-9575-174a75ab5d9a",
   "metadata": {},
   "outputs": [
    {
     "data": {
      "text/plain": [
       " Mean of the integrated profile                  0\n",
       " Standard deviation of the integrated profile    0\n",
       " Excess kurtosis of the integrated profile       0\n",
       " Skewness of the integrated profile              0\n",
       " Mean of the DM-SNR curve                        0\n",
       " Standard deviation of the DM-SNR curve          0\n",
       " Excess kurtosis of the DM-SNR curve             0\n",
       " Skewness of the DM-SNR curve                    0\n",
       "dtype: int64"
      ]
     },
     "execution_count": 27,
     "metadata": {},
     "output_type": "execute_result"
    }
   ],
   "source": [
    "X_train.isnull().sum()"
   ]
  },
  {
   "cell_type": "code",
   "execution_count": 28,
   "id": "38159c00-e5b3-4917-8795-74808cfe8b36",
   "metadata": {},
   "outputs": [
    {
     "name": "stdout",
     "output_type": "stream",
     "text": [
      "Number of test data: 3759\n"
     ]
    },
    {
     "data": {
      "text/plain": [
       " Mean of the integrated profile                    0\n",
       " Standard deviation of the integrated profile      0\n",
       " Excess kurtosis of the integrated profile       525\n",
       " Skewness of the integrated profile                0\n",
       " Mean of the DM-SNR curve                          0\n",
       " Standard deviation of the DM-SNR curve          340\n",
       " Excess kurtosis of the DM-SNR curve               0\n",
       " Skewness of the DM-SNR curve                    169\n",
       "dtype: int64"
      ]
     },
     "execution_count": 28,
     "metadata": {},
     "output_type": "execute_result"
    }
   ],
   "source": [
    "print(f\"Number of test data: {len(X_test)}\")\n",
    "X_test.isnull().sum()"
   ]
  },
  {
   "cell_type": "code",
   "execution_count": 29,
   "id": "f0a0df68-78b8-4176-ac16-ce3c57ac9b7c",
   "metadata": {},
   "outputs": [],
   "source": [
    "# Dropping the NaN rows from the test set\n",
    "null_indices = []\n",
    "for column in column_names:\n",
    "    null_indices_temp = X_test[X_test[column].isnull()].index.tolist()\n",
    "    null_indices.append(null_indices_temp)\n",
    "null_indices_list = []\n",
    "for sublist in null_indices:\n",
    "    for item in sublist:\n",
    "        null_indices_list.append(item)\n",
    "null_indices_list = list(set(null_indices_list))\n",
    "X_test = X_test.dropna()\n",
    "y_test = y_test.drop(null_indices_list)\n"
   ]
  },
  {
   "cell_type": "code",
   "execution_count": 30,
   "id": "05a40671-979e-4398-9ee5-bfeb2d7e81b9",
   "metadata": {},
   "outputs": [
    {
     "data": {
      "text/plain": [
       " Mean of the integrated profile                  0\n",
       " Standard deviation of the integrated profile    0\n",
       " Excess kurtosis of the integrated profile       0\n",
       " Skewness of the integrated profile              0\n",
       " Mean of the DM-SNR curve                        0\n",
       " Standard deviation of the DM-SNR curve          0\n",
       " Excess kurtosis of the DM-SNR curve             0\n",
       " Skewness of the DM-SNR curve                    0\n",
       "dtype: int64"
      ]
     },
     "execution_count": 30,
     "metadata": {},
     "output_type": "execute_result"
    }
   ],
   "source": [
    "X_test.isnull().sum()"
   ]
  },
  {
   "cell_type": "code",
   "execution_count": 31,
   "id": "82159442-6772-464a-8b33-0d39cb62d578",
   "metadata": {},
   "outputs": [
    {
     "name": "stdout",
     "output_type": "stream",
     "text": [
      "Number of test data after dropping missing values: 2810, 2810\n"
     ]
    }
   ],
   "source": [
    "print(f\"Number of test data after dropping missing values: {len(X_test)}, {len(y_test)}\")"
   ]
  },
  {
   "cell_type": "markdown",
   "id": "909e79de-56e6-46c8-b19b-27c2b0236a53",
   "metadata": {},
   "source": [
    "## 4. Standardizing\n",
    "\n",
    "Standardizing `X_train` and `X_test` datasets with the mean and standard deviation from the training set."
   ]
  },
  {
   "cell_type": "code",
   "execution_count": 32,
   "id": "522ef6ca-28d8-4eee-aa66-c574c23df59b",
   "metadata": {},
   "outputs": [],
   "source": [
    "X_train_scaled = X_train.copy()\n",
    "X_test_scaled = X_test.copy()"
   ]
  },
  {
   "cell_type": "code",
   "execution_count": 33,
   "id": "0d8646ec-f197-440c-b6b3-73afde168457",
   "metadata": {},
   "outputs": [
    {
     "data": {
      "text/html": [
       "<div>\n",
       "<style scoped>\n",
       "    .dataframe tbody tr th:only-of-type {\n",
       "        vertical-align: middle;\n",
       "    }\n",
       "\n",
       "    .dataframe tbody tr th {\n",
       "        vertical-align: top;\n",
       "    }\n",
       "\n",
       "    .dataframe thead th {\n",
       "        text-align: right;\n",
       "    }\n",
       "</style>\n",
       "<table border=\"1\" class=\"dataframe\">\n",
       "  <thead>\n",
       "    <tr style=\"text-align: right;\">\n",
       "      <th></th>\n",
       "      <th>Mean of the integrated profile</th>\n",
       "      <th>Standard deviation of the integrated profile</th>\n",
       "      <th>Excess kurtosis of the integrated profile</th>\n",
       "      <th>Skewness of the integrated profile</th>\n",
       "      <th>Mean of the DM-SNR curve</th>\n",
       "      <th>Standard deviation of the DM-SNR curve</th>\n",
       "      <th>Excess kurtosis of the DM-SNR curve</th>\n",
       "      <th>Skewness of the DM-SNR curve</th>\n",
       "    </tr>\n",
       "  </thead>\n",
       "  <tbody>\n",
       "    <tr>\n",
       "      <th>12456</th>\n",
       "      <td>-1.002621</td>\n",
       "      <td>-1.064038</td>\n",
       "      <td>0.312024</td>\n",
       "      <td>-0.028320</td>\n",
       "      <td>-0.192661</td>\n",
       "      <td>0.315168</td>\n",
       "      <td>-0.611679</td>\n",
       "      <td>-0.711334</td>\n",
       "    </tr>\n",
       "    <tr>\n",
       "      <th>11463</th>\n",
       "      <td>-0.519303</td>\n",
       "      <td>0.521214</td>\n",
       "      <td>0.071757</td>\n",
       "      <td>-0.279010</td>\n",
       "      <td>0.108891</td>\n",
       "      <td>1.120539</td>\n",
       "      <td>-1.161793</td>\n",
       "      <td>-0.937774</td>\n",
       "    </tr>\n",
       "    <tr>\n",
       "      <th>11859</th>\n",
       "      <td>0.090072</td>\n",
       "      <td>0.157489</td>\n",
       "      <td>-0.266816</td>\n",
       "      <td>-0.319953</td>\n",
       "      <td>-0.398041</td>\n",
       "      <td>-0.848574</td>\n",
       "      <td>1.699495</td>\n",
       "      <td>2.052570</td>\n",
       "    </tr>\n",
       "    <tr>\n",
       "      <th>10479</th>\n",
       "      <td>1.224884</td>\n",
       "      <td>-0.178531</td>\n",
       "      <td>-0.629289</td>\n",
       "      <td>-0.274563</td>\n",
       "      <td>-0.285812</td>\n",
       "      <td>-0.248758</td>\n",
       "      <td>-0.318990</td>\n",
       "      <td>-0.484634</td>\n",
       "    </tr>\n",
       "    <tr>\n",
       "      <th>9519</th>\n",
       "      <td>0.719143</td>\n",
       "      <td>1.467242</td>\n",
       "      <td>-0.556582</td>\n",
       "      <td>-0.332430</td>\n",
       "      <td>-0.360845</td>\n",
       "      <td>-0.614785</td>\n",
       "      <td>0.276753</td>\n",
       "      <td>0.068999</td>\n",
       "    </tr>\n",
       "  </tbody>\n",
       "</table>\n",
       "</div>"
      ],
      "text/plain": [
       "        Mean of the integrated profile  \\\n",
       "12456                        -1.002621   \n",
       "11463                        -0.519303   \n",
       "11859                         0.090072   \n",
       "10479                         1.224884   \n",
       "9519                          0.719143   \n",
       "\n",
       "        Standard deviation of the integrated profile  \\\n",
       "12456                                      -1.064038   \n",
       "11463                                       0.521214   \n",
       "11859                                       0.157489   \n",
       "10479                                      -0.178531   \n",
       "9519                                        1.467242   \n",
       "\n",
       "        Excess kurtosis of the integrated profile  \\\n",
       "12456                                    0.312024   \n",
       "11463                                    0.071757   \n",
       "11859                                   -0.266816   \n",
       "10479                                   -0.629289   \n",
       "9519                                    -0.556582   \n",
       "\n",
       "        Skewness of the integrated profile   Mean of the DM-SNR curve  \\\n",
       "12456                            -0.028320                  -0.192661   \n",
       "11463                            -0.279010                   0.108891   \n",
       "11859                            -0.319953                  -0.398041   \n",
       "10479                            -0.274563                  -0.285812   \n",
       "9519                             -0.332430                  -0.360845   \n",
       "\n",
       "        Standard deviation of the DM-SNR curve  \\\n",
       "12456                                 0.315168   \n",
       "11463                                 1.120539   \n",
       "11859                                -0.848574   \n",
       "10479                                -0.248758   \n",
       "9519                                 -0.614785   \n",
       "\n",
       "        Excess kurtosis of the DM-SNR curve   Skewness of the DM-SNR curve  \n",
       "12456                             -0.611679                      -0.711334  \n",
       "11463                             -1.161793                      -0.937774  \n",
       "11859                              1.699495                       2.052570  \n",
       "10479                             -0.318990                      -0.484634  \n",
       "9519                               0.276753                       0.068999  "
      ]
     },
     "execution_count": 33,
     "metadata": {},
     "output_type": "execute_result"
    }
   ],
   "source": [
    "for column in column_names:\n",
    "    mean_ = X_train[column].mean()\n",
    "    std_ = X_train[column].std()\n",
    "    X_train_scaled[column] = (X_train[column] - mean_)/std_\n",
    "    X_test_scaled[column] = (X_test[column] - mean_)/std_\n",
    "    \n",
    "X_train_scaled.head()"
   ]
  },
  {
   "cell_type": "code",
   "execution_count": 34,
   "id": "1e880eb4-9fe5-4f06-ba58-ab27c889e94f",
   "metadata": {},
   "outputs": [
    {
     "data": {
      "text/html": [
       "<div>\n",
       "<style scoped>\n",
       "    .dataframe tbody tr th:only-of-type {\n",
       "        vertical-align: middle;\n",
       "    }\n",
       "\n",
       "    .dataframe tbody tr th {\n",
       "        vertical-align: top;\n",
       "    }\n",
       "\n",
       "    .dataframe thead th {\n",
       "        text-align: right;\n",
       "    }\n",
       "</style>\n",
       "<table border=\"1\" class=\"dataframe\">\n",
       "  <thead>\n",
       "    <tr style=\"text-align: right;\">\n",
       "      <th></th>\n",
       "      <th>Mean of the integrated profile</th>\n",
       "      <th>Standard deviation of the integrated profile</th>\n",
       "      <th>Excess kurtosis of the integrated profile</th>\n",
       "      <th>Skewness of the integrated profile</th>\n",
       "      <th>Mean of the DM-SNR curve</th>\n",
       "      <th>Standard deviation of the DM-SNR curve</th>\n",
       "      <th>Excess kurtosis of the DM-SNR curve</th>\n",
       "      <th>Skewness of the DM-SNR curve</th>\n",
       "    </tr>\n",
       "  </thead>\n",
       "  <tbody>\n",
       "    <tr>\n",
       "      <th>5812</th>\n",
       "      <td>0.155827</td>\n",
       "      <td>1.336331</td>\n",
       "      <td>-0.388055</td>\n",
       "      <td>-0.357737</td>\n",
       "      <td>-0.307823</td>\n",
       "      <td>-0.170616</td>\n",
       "      <td>-0.274899</td>\n",
       "      <td>-0.512756</td>\n",
       "    </tr>\n",
       "    <tr>\n",
       "      <th>983</th>\n",
       "      <td>-0.096892</td>\n",
       "      <td>0.210190</td>\n",
       "      <td>-0.299606</td>\n",
       "      <td>-0.269127</td>\n",
       "      <td>-0.381722</td>\n",
       "      <td>-0.635212</td>\n",
       "      <td>0.967552</td>\n",
       "      <td>0.678132</td>\n",
       "    </tr>\n",
       "    <tr>\n",
       "      <th>1417</th>\n",
       "      <td>0.881259</td>\n",
       "      <td>0.002648</td>\n",
       "      <td>-0.459486</td>\n",
       "      <td>-0.275288</td>\n",
       "      <td>-0.373418</td>\n",
       "      <td>-0.779743</td>\n",
       "      <td>0.824590</td>\n",
       "      <td>0.926236</td>\n",
       "    </tr>\n",
       "    <tr>\n",
       "      <th>9402</th>\n",
       "      <td>0.346124</td>\n",
       "      <td>0.098263</td>\n",
       "      <td>-0.233001</td>\n",
       "      <td>-0.280214</td>\n",
       "      <td>-0.047097</td>\n",
       "      <td>0.895210</td>\n",
       "      <td>-0.954415</td>\n",
       "      <td>-0.870068</td>\n",
       "    </tr>\n",
       "    <tr>\n",
       "      <th>1811</th>\n",
       "      <td>-1.015045</td>\n",
       "      <td>-1.778305</td>\n",
       "      <td>0.202978</td>\n",
       "      <td>0.316541</td>\n",
       "      <td>-0.363342</td>\n",
       "      <td>-0.642873</td>\n",
       "      <td>0.464163</td>\n",
       "      <td>0.274894</td>\n",
       "    </tr>\n",
       "  </tbody>\n",
       "</table>\n",
       "</div>"
      ],
      "text/plain": [
       "       Mean of the integrated profile  \\\n",
       "5812                         0.155827   \n",
       "983                         -0.096892   \n",
       "1417                         0.881259   \n",
       "9402                         0.346124   \n",
       "1811                        -1.015045   \n",
       "\n",
       "       Standard deviation of the integrated profile  \\\n",
       "5812                                       1.336331   \n",
       "983                                        0.210190   \n",
       "1417                                       0.002648   \n",
       "9402                                       0.098263   \n",
       "1811                                      -1.778305   \n",
       "\n",
       "       Excess kurtosis of the integrated profile  \\\n",
       "5812                                   -0.388055   \n",
       "983                                    -0.299606   \n",
       "1417                                   -0.459486   \n",
       "9402                                   -0.233001   \n",
       "1811                                    0.202978   \n",
       "\n",
       "       Skewness of the integrated profile   Mean of the DM-SNR curve  \\\n",
       "5812                            -0.357737                  -0.307823   \n",
       "983                             -0.269127                  -0.381722   \n",
       "1417                            -0.275288                  -0.373418   \n",
       "9402                            -0.280214                  -0.047097   \n",
       "1811                             0.316541                  -0.363342   \n",
       "\n",
       "       Standard deviation of the DM-SNR curve  \\\n",
       "5812                                -0.170616   \n",
       "983                                 -0.635212   \n",
       "1417                                -0.779743   \n",
       "9402                                 0.895210   \n",
       "1811                                -0.642873   \n",
       "\n",
       "       Excess kurtosis of the DM-SNR curve   Skewness of the DM-SNR curve  \n",
       "5812                             -0.274899                      -0.512756  \n",
       "983                               0.967552                       0.678132  \n",
       "1417                              0.824590                       0.926236  \n",
       "9402                             -0.954415                      -0.870068  \n",
       "1811                              0.464163                       0.274894  "
      ]
     },
     "execution_count": 34,
     "metadata": {},
     "output_type": "execute_result"
    }
   ],
   "source": [
    "X_test_scaled.head()"
   ]
  },
  {
   "cell_type": "code",
   "execution_count": 35,
   "id": "7a2c43e7-b7a6-41ec-9d71-44d905ebca73",
   "metadata": {},
   "outputs": [
    {
     "data": {
      "text/plain": [
       "2810"
      ]
     },
     "execution_count": 35,
     "metadata": {},
     "output_type": "execute_result"
    }
   ],
   "source": [
    "len(X_test_scaled)"
   ]
  },
  {
   "cell_type": "markdown",
   "id": "96c93895-155e-4fb9-88e9-52e25d5dc4a0",
   "metadata": {},
   "source": [
    "### Saving the dataset"
   ]
  },
  {
   "cell_type": "code",
   "execution_count": 36,
   "id": "f1625763-764e-4685-8643-def678f5ee15",
   "metadata": {
    "tags": []
   },
   "outputs": [
    {
     "name": "stdout",
     "output_type": "stream",
     "text": [
      "Training set size: 8769\n",
      "Positive samples in the training set: 800\n",
      "Testing set size: 2810\n",
      "Positive samples in the testing set: 268\n"
     ]
    }
   ],
   "source": [
    "training_set = pd.concat([X_train_scaled,y_train],axis=1)\n",
    "print(f\"Training set size: {len(training_set)}\")\n",
    "print(f\"Positive samples in the training set: {len(training_set.loc[training_set['target_class']==1])}\")\n",
    "testing_set = pd.concat([X_test_scaled,y_test],axis=1)\n",
    "print(f\"Testing set size: {len(testing_set)}\")\n",
    "print(f\"Positive samples in the testing set: {len(testing_set.loc[testing_set['target_class']==1])}\")\n",
    "data_scaled = pd.concat([training_set,testing_set],axis=0)"
   ]
  },
  {
   "cell_type": "code",
   "execution_count": 37,
   "id": "7de07914-c2c4-4f10-b964-e0ac911a5484",
   "metadata": {},
   "outputs": [],
   "source": [
    "data_scaled.to_csv('data_scaled.csv',header=False,index=False)"
   ]
  },
  {
   "cell_type": "markdown",
   "id": "0aa24b99-96fb-4fb1-a959-51b28fd3c4e9",
   "metadata": {},
   "source": [
    "# II. Models: Training, evaluating and tuning\n",
    "\n",
    "We'll use:\n",
    "\n",
    "0. Logistic regression as baseline model\n",
    "1. SVC\n",
    "2. Random forest\n",
    "3. XGBoost\n",
    "\n",
    "We'll use `balanced accuracy` as error metric: https://scikit-learn.org/stable/modules/generated/sklearn.metrics.balanced_accuracy_score.html\n",
    "because the dataset is imbalanced."
   ]
  },
  {
   "cell_type": "code",
   "execution_count": 38,
   "id": "3acc9601-5d63-4b65-ae5c-6b71cb2c2fc3",
   "metadata": {},
   "outputs": [
    {
     "data": {
      "text/plain": [
       "(800, 7969)"
      ]
     },
     "execution_count": 38,
     "metadata": {},
     "output_type": "execute_result"
    }
   ],
   "source": [
    "# Imbalanced dataset\n",
    "len(y_train[y_train == 1]), len(y_train[y_train == 0])"
   ]
  },
  {
   "cell_type": "code",
   "execution_count": 39,
   "id": "a7548b31-580a-4634-b518-53a75d468d63",
   "metadata": {},
   "outputs": [],
   "source": [
    "# We'll save the results of the models\n",
    "train_results = {}\n",
    "test_results = {}"
   ]
  },
  {
   "cell_type": "code",
   "execution_count": 40,
   "id": "a7be0949-c8f6-4b9d-8073-ef9dc4f885ec",
   "metadata": {},
   "outputs": [],
   "source": [
    "# Confusin matrix\n",
    "from sklearn.metrics import confusion_matrix\n",
    "def print_report(model, X, y):\n",
    "    y_pred = model.predict(X)\n",
    "    cm = pd.DataFrame(confusion_matrix(y_pred=y_pred, y_true=y, labels=model.classes_), \n",
    "                      columns=model.classes_, index=model.classes_)\n",
    "    cm.index.name = 'True'\n",
    "    cm.columns.name = 'Predicted'\n",
    "    return cm"
   ]
  },
  {
   "cell_type": "code",
   "execution_count": 41,
   "id": "6606a6a3-61a8-4163-b68f-0d02b346a3be",
   "metadata": {},
   "outputs": [],
   "source": [
    "from sklearn.metrics import classification_report\n",
    "from sklearn.metrics import f1_score\n",
    "from sklearn.metrics import precision_recall_fscore_support\n",
    "from sklearn import metrics\n",
    "from sklearn.metrics import balanced_accuracy_score\n",
    "import warnings\n",
    "warnings.simplefilter(action='ignore', category=FutureWarning)"
   ]
  },
  {
   "cell_type": "markdown",
   "id": "eadc3a69-af2b-4109-9c75-522c4c405fc1",
   "metadata": {},
   "source": [
    "## 0. Logistic regression --- Baseline model"
   ]
  },
  {
   "cell_type": "code",
   "execution_count": 42,
   "id": "098783d1-b46c-44b4-b2f6-d7078ad194a2",
   "metadata": {},
   "outputs": [],
   "source": [
    "from sklearn.linear_model import LogisticRegression"
   ]
  },
  {
   "cell_type": "code",
   "execution_count": 43,
   "id": "3c1dfbec-92bf-4fc0-b4dd-391af6321220",
   "metadata": {},
   "outputs": [],
   "source": [
    "model_logistic = LogisticRegression(max_iter = 10000)"
   ]
  },
  {
   "cell_type": "code",
   "execution_count": 44,
   "id": "e3178054-862f-4955-8456-735e19145691",
   "metadata": {},
   "outputs": [
    {
     "data": {
      "text/plain": [
       "LogisticRegression(max_iter=10000)"
      ]
     },
     "execution_count": 44,
     "metadata": {},
     "output_type": "execute_result"
    }
   ],
   "source": [
    "model_logistic.fit(X_train_scaled,y_train)"
   ]
  },
  {
   "cell_type": "code",
   "execution_count": 45,
   "id": "30be5d3c-7b82-41f7-9819-27af6d2bbd61",
   "metadata": {},
   "outputs": [
    {
     "data": {
      "text/plain": [
       "2810"
      ]
     },
     "execution_count": 45,
     "metadata": {},
     "output_type": "execute_result"
    }
   ],
   "source": [
    "len(X_train_scaled)\n",
    "len(X_test_scaled)"
   ]
  },
  {
   "cell_type": "code",
   "execution_count": 46,
   "id": "938e5f8e-5db5-4065-8ae0-a77c1e8844d4",
   "metadata": {},
   "outputs": [],
   "source": [
    "# Saving the results\n",
    "y_pred = model_logistic.predict(X_train_scaled)\n",
    "train_results[\"Logistic regression\"] = balanced_accuracy_score(y_train,y_pred)\n",
    "y_pred = model_logistic.predict(X_test_scaled)\n",
    "test_results[\"Logistic regression\"] = balanced_accuracy_score(y_test,y_pred)"
   ]
  },
  {
   "cell_type": "code",
   "execution_count": 47,
   "id": "771bc381-9b85-478a-a41e-7a249747d62b",
   "metadata": {},
   "outputs": [
    {
     "data": {
      "text/plain": [
       "({'Logistic regression': 0.8903667335926716},\n",
       " {'Logistic regression': 0.8865815493735101})"
      ]
     },
     "execution_count": 47,
     "metadata": {},
     "output_type": "execute_result"
    }
   ],
   "source": [
    "train_results, test_results"
   ]
  },
  {
   "cell_type": "code",
   "execution_count": 48,
   "id": "f0ce43a7-beba-4706-977f-8c83199fca58",
   "metadata": {},
   "outputs": [
    {
     "data": {
      "text/html": [
       "<div>\n",
       "<style scoped>\n",
       "    .dataframe tbody tr th:only-of-type {\n",
       "        vertical-align: middle;\n",
       "    }\n",
       "\n",
       "    .dataframe tbody tr th {\n",
       "        vertical-align: top;\n",
       "    }\n",
       "\n",
       "    .dataframe thead th {\n",
       "        text-align: right;\n",
       "    }\n",
       "</style>\n",
       "<table border=\"1\" class=\"dataframe\">\n",
       "  <thead>\n",
       "    <tr style=\"text-align: right;\">\n",
       "      <th>Predicted</th>\n",
       "      <th>0.0</th>\n",
       "      <th>1.0</th>\n",
       "    </tr>\n",
       "    <tr>\n",
       "      <th>True</th>\n",
       "      <th></th>\n",
       "      <th></th>\n",
       "    </tr>\n",
       "  </thead>\n",
       "  <tbody>\n",
       "    <tr>\n",
       "      <th>0.0</th>\n",
       "      <td>7935</td>\n",
       "      <td>34</td>\n",
       "    </tr>\n",
       "    <tr>\n",
       "      <th>1.0</th>\n",
       "      <td>172</td>\n",
       "      <td>628</td>\n",
       "    </tr>\n",
       "  </tbody>\n",
       "</table>\n",
       "</div>"
      ],
      "text/plain": [
       "Predicted   0.0  1.0\n",
       "True                \n",
       "0.0        7935   34\n",
       "1.0         172  628"
      ]
     },
     "execution_count": 48,
     "metadata": {},
     "output_type": "execute_result"
    }
   ],
   "source": [
    "# Confusion matrix on the training set\n",
    "print_report(model_logistic,X_train_scaled,y_train)"
   ]
  },
  {
   "cell_type": "code",
   "execution_count": 49,
   "id": "45a5ed7e-f638-42a8-b76f-c4a13e8a4442",
   "metadata": {},
   "outputs": [
    {
     "data": {
      "text/html": [
       "<div>\n",
       "<style scoped>\n",
       "    .dataframe tbody tr th:only-of-type {\n",
       "        vertical-align: middle;\n",
       "    }\n",
       "\n",
       "    .dataframe tbody tr th {\n",
       "        vertical-align: top;\n",
       "    }\n",
       "\n",
       "    .dataframe thead th {\n",
       "        text-align: right;\n",
       "    }\n",
       "</style>\n",
       "<table border=\"1\" class=\"dataframe\">\n",
       "  <thead>\n",
       "    <tr style=\"text-align: right;\">\n",
       "      <th>Predicted</th>\n",
       "      <th>0.0</th>\n",
       "      <th>1.0</th>\n",
       "    </tr>\n",
       "    <tr>\n",
       "      <th>True</th>\n",
       "      <th></th>\n",
       "      <th></th>\n",
       "    </tr>\n",
       "  </thead>\n",
       "  <tbody>\n",
       "    <tr>\n",
       "      <th>0.0</th>\n",
       "      <td>2525</td>\n",
       "      <td>17</td>\n",
       "    </tr>\n",
       "    <tr>\n",
       "      <th>1.0</th>\n",
       "      <td>59</td>\n",
       "      <td>209</td>\n",
       "    </tr>\n",
       "  </tbody>\n",
       "</table>\n",
       "</div>"
      ],
      "text/plain": [
       "Predicted   0.0  1.0\n",
       "True                \n",
       "0.0        2525   17\n",
       "1.0          59  209"
      ]
     },
     "execution_count": 49,
     "metadata": {},
     "output_type": "execute_result"
    }
   ],
   "source": [
    "# Confusion matrix on the test set\n",
    "print_report(model_logistic,X_test_scaled,y_test)"
   ]
  },
  {
   "cell_type": "code",
   "execution_count": 50,
   "id": "5a89a2d7-4aaa-421f-af93-e692422acc48",
   "metadata": {},
   "outputs": [],
   "source": [
    "# Classification report\n",
    "y_pred = model_logistic.predict(X_test_scaled)\n",
    "report_logistic = classification_report(y_test,y_pred,labels=[0,1])"
   ]
  },
  {
   "cell_type": "code",
   "execution_count": 51,
   "id": "d6c15648-42c8-425d-b390-444808f1089b",
   "metadata": {},
   "outputs": [
    {
     "name": "stdout",
     "output_type": "stream",
     "text": [
      "              precision    recall  f1-score   support\n",
      "\n",
      "           0       0.98      0.99      0.99      2542\n",
      "           1       0.92      0.78      0.85       268\n",
      "\n",
      "    accuracy                           0.97      2810\n",
      "   macro avg       0.95      0.89      0.92      2810\n",
      "weighted avg       0.97      0.97      0.97      2810\n",
      "\n"
     ]
    }
   ],
   "source": [
    "print(report_logistic)"
   ]
  },
  {
   "cell_type": "code",
   "execution_count": 52,
   "id": "0cffddb6-ed58-4253-b5a4-6f3e36dfbe67",
   "metadata": {},
   "outputs": [
    {
     "data": {
      "image/png": "[encoded data removed]",
      "text/plain": [
       "<Figure size 432x288 with 1 Axes>"
      ]
     },
     "metadata": {
      "needs_background": "light"
     },
     "output_type": "display_data"
    }
   ],
   "source": [
    "metrics.plot_roc_curve(model_logistic, X_test_scaled, y_test) \n",
    "plt.show();"
   ]
  },
  {
   "cell_type": "markdown",
   "id": "78be112f-96fc-4885-a146-4caeb409ab5c",
   "metadata": {},
   "source": [
    "Not bad."
   ]
  },
  {
   "cell_type": "markdown",
   "id": "50b49e45-f86d-4d4a-ab83-7d928a5573e8",
   "metadata": {},
   "source": [
    "## 1. SVC"
   ]
  },
  {
   "cell_type": "code",
   "execution_count": 53,
   "id": "3f1ffe73-7c64-464b-967e-e2a89152aaee",
   "metadata": {},
   "outputs": [],
   "source": [
    "from sklearn.svm import SVC"
   ]
  },
  {
   "cell_type": "markdown",
   "id": "4369c457-48a7-4f29-8784-21e2a99b6924",
   "metadata": {},
   "source": [
    "### Linear kernel"
   ]
  },
  {
   "cell_type": "code",
   "execution_count": 54,
   "id": "86c52b16-1082-4091-9d37-a3225c093aca",
   "metadata": {},
   "outputs": [
    {
     "name": "stdout",
     "output_type": "stream",
     "text": [
      "Training accuracy: 0.8919304492408081\n",
      "Test accuracy: 0.8909029792031189\n"
     ]
    }
   ],
   "source": [
    "# Using the default parameters\n",
    "svc_linear = SVC(kernel='linear')\n",
    "svc_linear.fit(X_train_scaled, y_train)\n",
    "y_pred = svc_linear.predict(X_train_scaled)\n",
    "print(f\"Training accuracy: {balanced_accuracy_score(y_train,y_pred)}\")\n",
    "y_pred = svc_linear.predict(X_test_scaled)\n",
    "print(f\"Test accuracy: {balanced_accuracy_score(y_test,y_pred)}\")"
   ]
  },
  {
   "cell_type": "code",
   "execution_count": 55,
   "id": "97f6e3ed-9c8d-4e75-a880-9dd867f9444a",
   "metadata": {},
   "outputs": [],
   "source": [
    "# Using grid search for optimal parameters\n",
    "from sklearn.model_selection import GridSearchCV"
   ]
  },
  {
   "cell_type": "code",
   "execution_count": 56,
   "id": "d92dd733-3679-4b24-9196-12cdc481acfb",
   "metadata": {},
   "outputs": [
    {
     "name": "stdout",
     "output_type": "stream",
     "text": [
      "Training accuracy: 0.8913054492408081\n",
      "Test accuracy: 0.8909029792031189\n",
      "CPU times: user 12.1 s, sys: 0 ns, total: 12.1 s\n",
      "Wall time: 12.1 s\n"
     ]
    }
   ],
   "source": [
    "%%time\n",
    "# 1st round\n",
    "tuned_parameters = [{'C': [0.2,0.3,0.4,0.5,0.6]}]\n",
    "svc_linear = GridSearchCV(SVC(kernel='linear'), \n",
    "                   param_grid=tuned_parameters, \n",
    "                   cv=10, \n",
    "                   refit=True,\n",
    "                   scoring='balanced_accuracy')\n",
    "svc_linear.fit(X_train_scaled, y_train)\n",
    "y_pred = svc_linear.predict(X_train_scaled)\n",
    "print(f\"Training accuracy: {balanced_accuracy_score(y_train,y_pred)}\")\n",
    "y_pred = svc_linear.predict(X_test_scaled)\n",
    "print(f\"Test accuracy: {balanced_accuracy_score(y_test,y_pred)}\")"
   ]
  },
  {
   "cell_type": "code",
   "execution_count": 57,
   "id": "3bd35941-543c-425c-b33d-98379a74bba1",
   "metadata": {},
   "outputs": [
    {
     "data": {
      "text/plain": [
       "{'C': 0.5}"
      ]
     },
     "execution_count": 57,
     "metadata": {},
     "output_type": "execute_result"
    }
   ],
   "source": [
    "# Best parameters\n",
    "svc_linear.best_params_"
   ]
  },
  {
   "cell_type": "code",
   "execution_count": 58,
   "id": "5641fb4c-3dc0-41f1-8d4d-f0f0352c8c21",
   "metadata": {},
   "outputs": [
    {
     "name": "stdout",
     "output_type": "stream",
     "text": [
      "Training accuracy: 0.8906804492408081\n",
      "Test accuracy: 0.8909029792031189\n",
      "CPU times: user 7.41 s, sys: 0 ns, total: 7.41 s\n",
      "Wall time: 7.41 s\n"
     ]
    }
   ],
   "source": [
    "%%time\n",
    "# 2nd round\n",
    "tuned_parameters = [{'C': [0.45,0.5,0.55]}]\n",
    "svc_linear = GridSearchCV(SVC(kernel='linear'), \n",
    "                   param_grid=tuned_parameters, \n",
    "                   cv=10, \n",
    "                   refit=True,\n",
    "                   scoring='balanced_accuracy')\n",
    "svc_linear.fit(X_train_scaled, y_train)\n",
    "y_pred = svc_linear.predict(X_train_scaled)\n",
    "print(f\"Training accuracy: {balanced_accuracy_score(y_train,y_pred)}\")\n",
    "y_pred = svc_linear.predict(X_test_scaled)\n",
    "print(f\"Test accuracy: {balanced_accuracy_score(y_test,y_pred)}\")"
   ]
  },
  {
   "cell_type": "code",
   "execution_count": 59,
   "id": "c0cc0e13-a2ef-4150-943c-fccb7f919569",
   "metadata": {},
   "outputs": [
    {
     "data": {
      "text/plain": [
       "{'C': 0.45}"
      ]
     },
     "execution_count": 59,
     "metadata": {},
     "output_type": "execute_result"
    }
   ],
   "source": [
    "# Best parameters\n",
    "svc_linear.best_params_"
   ]
  },
  {
   "cell_type": "code",
   "execution_count": 60,
   "id": "33fd6cd3-a26d-46d3-92b4-bd4225a3517f",
   "metadata": {},
   "outputs": [
    {
     "data": {
      "text/html": [
       "<div>\n",
       "<style scoped>\n",
       "    .dataframe tbody tr th:only-of-type {\n",
       "        vertical-align: middle;\n",
       "    }\n",
       "\n",
       "    .dataframe tbody tr th {\n",
       "        vertical-align: top;\n",
       "    }\n",
       "\n",
       "    .dataframe thead th {\n",
       "        text-align: right;\n",
       "    }\n",
       "</style>\n",
       "<table border=\"1\" class=\"dataframe\">\n",
       "  <thead>\n",
       "    <tr style=\"text-align: right;\">\n",
       "      <th>Predicted</th>\n",
       "      <th>0.0</th>\n",
       "      <th>1.0</th>\n",
       "    </tr>\n",
       "    <tr>\n",
       "      <th>True</th>\n",
       "      <th></th>\n",
       "      <th></th>\n",
       "    </tr>\n",
       "  </thead>\n",
       "  <tbody>\n",
       "    <tr>\n",
       "      <th>0.0</th>\n",
       "      <td>7940</td>\n",
       "      <td>29</td>\n",
       "    </tr>\n",
       "    <tr>\n",
       "      <th>1.0</th>\n",
       "      <td>172</td>\n",
       "      <td>628</td>\n",
       "    </tr>\n",
       "  </tbody>\n",
       "</table>\n",
       "</div>"
      ],
      "text/plain": [
       "Predicted   0.0  1.0\n",
       "True                \n",
       "0.0        7940   29\n",
       "1.0         172  628"
      ]
     },
     "execution_count": 60,
     "metadata": {},
     "output_type": "execute_result"
    }
   ],
   "source": [
    "# Confusion matrix on the training set\n",
    "print_report(svc_linear,X_train_scaled,y_train)"
   ]
  },
  {
   "cell_type": "code",
   "execution_count": 61,
   "id": "b7ef7d75-267b-446b-8230-2c0262ff2bd4",
   "metadata": {},
   "outputs": [
    {
     "data": {
      "text/html": [
       "<div>\n",
       "<style scoped>\n",
       "    .dataframe tbody tr th:only-of-type {\n",
       "        vertical-align: middle;\n",
       "    }\n",
       "\n",
       "    .dataframe tbody tr th {\n",
       "        vertical-align: top;\n",
       "    }\n",
       "\n",
       "    .dataframe thead th {\n",
       "        text-align: right;\n",
       "    }\n",
       "</style>\n",
       "<table border=\"1\" class=\"dataframe\">\n",
       "  <thead>\n",
       "    <tr style=\"text-align: right;\">\n",
       "      <th>Predicted</th>\n",
       "      <th>0.0</th>\n",
       "      <th>1.0</th>\n",
       "    </tr>\n",
       "    <tr>\n",
       "      <th>True</th>\n",
       "      <th></th>\n",
       "      <th></th>\n",
       "    </tr>\n",
       "  </thead>\n",
       "  <tbody>\n",
       "    <tr>\n",
       "      <th>0.0</th>\n",
       "      <td>2528</td>\n",
       "      <td>14</td>\n",
       "    </tr>\n",
       "    <tr>\n",
       "      <th>1.0</th>\n",
       "      <td>57</td>\n",
       "      <td>211</td>\n",
       "    </tr>\n",
       "  </tbody>\n",
       "</table>\n",
       "</div>"
      ],
      "text/plain": [
       "Predicted   0.0  1.0\n",
       "True                \n",
       "0.0        2528   14\n",
       "1.0          57  211"
      ]
     },
     "execution_count": 61,
     "metadata": {},
     "output_type": "execute_result"
    }
   ],
   "source": [
    "# Confusion matrix on the test set\n",
    "print_report(svc_linear,X_test_scaled,y_test)"
   ]
  },
  {
   "cell_type": "code",
   "execution_count": 62,
   "id": "6a95115d-ff9c-426c-93d5-bb18c0b53824",
   "metadata": {},
   "outputs": [],
   "source": [
    "# Saving the results\n",
    "y_pred = svc_linear.predict(X_train_scaled)\n",
    "train_results[\"SVC linear\"] = balanced_accuracy_score(y_train,y_pred)\n",
    "y_pred = svc_linear.predict(X_test_scaled)\n",
    "test_results[\"SVC linear\"] = balanced_accuracy_score(y_test,y_pred)"
   ]
  },
  {
   "cell_type": "code",
   "execution_count": 63,
   "id": "eb5cc2ea-79d1-47ca-9d91-5bcadf134ff8",
   "metadata": {},
   "outputs": [],
   "source": [
    "# Classification report\n",
    "y_pred = svc_linear.predict(X_test_scaled)\n",
    "report_svc_linear = classification_report(y_test,y_pred,labels=[0,1])"
   ]
  },
  {
   "cell_type": "code",
   "execution_count": 64,
   "id": "783f08b4-6603-4a70-bfa0-519886792d27",
   "metadata": {},
   "outputs": [
    {
     "name": "stdout",
     "output_type": "stream",
     "text": [
      "              precision    recall  f1-score   support\n",
      "\n",
      "           0       0.98      0.99      0.99      2542\n",
      "           1       0.94      0.79      0.86       268\n",
      "\n",
      "    accuracy                           0.97      2810\n",
      "   macro avg       0.96      0.89      0.92      2810\n",
      "weighted avg       0.97      0.97      0.97      2810\n",
      "\n"
     ]
    }
   ],
   "source": [
    "print(report_svc_linear)"
   ]
  },
  {
   "cell_type": "code",
   "execution_count": 65,
   "id": "476a46df-5b6f-436f-b722-6aef64d54f0b",
   "metadata": {},
   "outputs": [
    {
     "data": {
      "image/png": "[encoded data removed]",
      "text/plain": [
       "<Figure size 432x288 with 1 Axes>"
      ]
     },
     "metadata": {
      "needs_background": "light"
     },
     "output_type": "display_data"
    }
   ],
   "source": [
    "metrics.plot_roc_curve(svc_linear, X_test_scaled, y_test) \n",
    "plt.show();"
   ]
  },
  {
   "cell_type": "markdown",
   "id": "828adb3a-e766-4907-8305-be53cf2cae01",
   "metadata": {},
   "source": [
    "### Radial kernel"
   ]
  },
  {
   "cell_type": "code",
   "execution_count": 66,
   "id": "171722d2-5129-47b2-9c68-6966f7839512",
   "metadata": {},
   "outputs": [
    {
     "name": "stdout",
     "output_type": "stream",
     "text": [
      "Training accuracy: 0.90211867862969\n",
      "Test accuracy: 0.8963032986131498\n",
      "Training accuracy: 0.9162451374074538\n",
      "Test accuracy: 0.900034641896732\n",
      "CPU times: user 1min 36s, sys: 1.62 s, total: 1min 37s\n",
      "Wall time: 1min 37s\n"
     ]
    }
   ],
   "source": [
    "%%time\n",
    "# 1st round\n",
    "# Fitting an SVM with radial kernel with default settings\n",
    "svc_radial = SVC(kernel='rbf')\n",
    "svc_radial.fit(X_train_scaled, y_train)\n",
    "\n",
    "# Training and testing scores\n",
    "y_pred = svc_radial.predict(X_train_scaled)\n",
    "print(f\"Training accuracy: {balanced_accuracy_score(y_train,y_pred)}\")\n",
    "y_pred = svc_radial.predict(X_test_scaled)\n",
    "print(f\"Test accuracy: {balanced_accuracy_score(y_test,y_pred)}\")\n",
    "\n",
    "# Finding the optimal C and gamma with grid search\n",
    "tuned_parameters = [{'C': [0.01,1.0,2.0],\n",
    "                     'gamma': [0.5,1,2]}]\n",
    "svc_radial = GridSearchCV(SVC(kernel='rbf'), \n",
    "                   param_grid=tuned_parameters, \n",
    "                   cv=10,\n",
    "                   refit=True,\n",
    "                   scoring='balanced_accuracy')\n",
    "svc_radial.fit(X_train_scaled, y_train)\n",
    "y_pred = svc_radial.predict(X_train_scaled)\n",
    "print(f\"Training accuracy: {balanced_accuracy_score(y_train,y_pred)}\")\n",
    "y_pred = svc_radial.predict(X_test_scaled)\n",
    "print(f\"Test accuracy: {balanced_accuracy_score(y_test,y_pred)}\")"
   ]
  },
  {
   "cell_type": "code",
   "execution_count": 67,
   "id": "33282ff0-6a9d-48be-9aaf-ff9dc80b5990",
   "metadata": {},
   "outputs": [
    {
     "data": {
      "text/plain": [
       "{'C': 1.0, 'gamma': 0.5}"
      ]
     },
     "execution_count": 67,
     "metadata": {},
     "output_type": "execute_result"
    }
   ],
   "source": [
    "# Best parameters\n",
    "svc_radial.best_params_"
   ]
  },
  {
   "cell_type": "code",
   "execution_count": 68,
   "id": "d037fe30-3aeb-422d-a78e-beeacc4d3e01",
   "metadata": {},
   "outputs": [
    {
     "name": "stdout",
     "output_type": "stream",
     "text": [
      "Training accuracy: 0.9162451374074538\n",
      "Test accuracy: 0.900034641896732\n",
      "CPU times: user 1min 27s, sys: 2.78 ms, total: 1min 27s\n",
      "Wall time: 1min 27s\n"
     ]
    }
   ],
   "source": [
    "%%time\n",
    "# 2nd round\n",
    "\n",
    "# Finding the optimal C and gamma with grid search\n",
    "tuned_parameters = [{'C': [0.8,0.9,1.0,1.1,1.2],\n",
    "                     'gamma': [0.4,0.5,0.6]}]\n",
    "svc_radial = GridSearchCV(SVC(kernel='rbf'), \n",
    "                   param_grid=tuned_parameters, \n",
    "                   cv=10,\n",
    "                   refit=True,\n",
    "                   scoring='balanced_accuracy')\n",
    "svc_radial.fit(X_train_scaled, y_train)\n",
    "y_pred = svc_radial.predict(X_train_scaled)\n",
    "print(f\"Training accuracy: {balanced_accuracy_score(y_train,y_pred)}\")\n",
    "y_pred = svc_radial.predict(X_test_scaled)\n",
    "print(f\"Test accuracy: {balanced_accuracy_score(y_test,y_pred)}\")"
   ]
  },
  {
   "cell_type": "code",
   "execution_count": 69,
   "id": "b9352e25-552c-4372-92f1-d5b55cd8da35",
   "metadata": {},
   "outputs": [
    {
     "data": {
      "text/plain": [
       "{'C': 1.0, 'gamma': 0.5}"
      ]
     },
     "execution_count": 69,
     "metadata": {},
     "output_type": "execute_result"
    }
   ],
   "source": [
    "# Best parameters\n",
    "svc_radial.best_params_"
   ]
  },
  {
   "cell_type": "code",
   "execution_count": 70,
   "id": "abf5b8d6-52ae-4881-806e-439c258468a0",
   "metadata": {},
   "outputs": [
    {
     "data": {
      "text/html": [
       "<div>\n",
       "<style scoped>\n",
       "    .dataframe tbody tr th:only-of-type {\n",
       "        vertical-align: middle;\n",
       "    }\n",
       "\n",
       "    .dataframe tbody tr th {\n",
       "        vertical-align: top;\n",
       "    }\n",
       "\n",
       "    .dataframe thead th {\n",
       "        text-align: right;\n",
       "    }\n",
       "</style>\n",
       "<table border=\"1\" class=\"dataframe\">\n",
       "  <thead>\n",
       "    <tr style=\"text-align: right;\">\n",
       "      <th>Predicted</th>\n",
       "      <th>0.0</th>\n",
       "      <th>1.0</th>\n",
       "    </tr>\n",
       "    <tr>\n",
       "      <th>True</th>\n",
       "      <th></th>\n",
       "      <th></th>\n",
       "    </tr>\n",
       "  </thead>\n",
       "  <tbody>\n",
       "    <tr>\n",
       "      <th>0.0</th>\n",
       "      <td>7949</td>\n",
       "      <td>20</td>\n",
       "    </tr>\n",
       "    <tr>\n",
       "      <th>1.0</th>\n",
       "      <td>132</td>\n",
       "      <td>668</td>\n",
       "    </tr>\n",
       "  </tbody>\n",
       "</table>\n",
       "</div>"
      ],
      "text/plain": [
       "Predicted   0.0  1.0\n",
       "True                \n",
       "0.0        7949   20\n",
       "1.0         132  668"
      ]
     },
     "execution_count": 70,
     "metadata": {},
     "output_type": "execute_result"
    }
   ],
   "source": [
    "# Confusion matrix on the training set\n",
    "print_report(svc_radial,X_train_scaled,y_train)"
   ]
  },
  {
   "cell_type": "code",
   "execution_count": 71,
   "id": "e9815c03-0057-44e6-881a-2e9017d22c58",
   "metadata": {},
   "outputs": [
    {
     "data": {
      "text/html": [
       "<div>\n",
       "<style scoped>\n",
       "    .dataframe tbody tr th:only-of-type {\n",
       "        vertical-align: middle;\n",
       "    }\n",
       "\n",
       "    .dataframe tbody tr th {\n",
       "        vertical-align: top;\n",
       "    }\n",
       "\n",
       "    .dataframe thead th {\n",
       "        text-align: right;\n",
       "    }\n",
       "</style>\n",
       "<table border=\"1\" class=\"dataframe\">\n",
       "  <thead>\n",
       "    <tr style=\"text-align: right;\">\n",
       "      <th>Predicted</th>\n",
       "      <th>0.0</th>\n",
       "      <th>1.0</th>\n",
       "    </tr>\n",
       "    <tr>\n",
       "      <th>True</th>\n",
       "      <th></th>\n",
       "      <th></th>\n",
       "    </tr>\n",
       "  </thead>\n",
       "  <tbody>\n",
       "    <tr>\n",
       "      <th>0.0</th>\n",
       "      <td>2527</td>\n",
       "      <td>15</td>\n",
       "    </tr>\n",
       "    <tr>\n",
       "      <th>1.0</th>\n",
       "      <td>52</td>\n",
       "      <td>216</td>\n",
       "    </tr>\n",
       "  </tbody>\n",
       "</table>\n",
       "</div>"
      ],
      "text/plain": [
       "Predicted   0.0  1.0\n",
       "True                \n",
       "0.0        2527   15\n",
       "1.0          52  216"
      ]
     },
     "execution_count": 71,
     "metadata": {},
     "output_type": "execute_result"
    }
   ],
   "source": [
    "# Confusion matrix on the test set\n",
    "print_report(svc_radial,X_test_scaled,y_test)"
   ]
  },
  {
   "cell_type": "code",
   "execution_count": 72,
   "id": "b2088daf-5299-4ce7-bc6d-6c9ba1fd6538",
   "metadata": {},
   "outputs": [
    {
     "data": {
      "text/plain": [
       "SVC()"
      ]
     },
     "execution_count": 72,
     "metadata": {},
     "output_type": "execute_result"
    }
   ],
   "source": [
    "svc_radial = SVC(kernel='rbf')\n",
    "svc_radial.fit(X_train_scaled, y_train)\n",
    "#svc_radial.predict_proba(X_test)"
   ]
  },
  {
   "cell_type": "code",
   "execution_count": 73,
   "id": "6980e234-7129-4996-8adf-6a23eddd1731",
   "metadata": {},
   "outputs": [
    {
     "data": {
      "image/png": "[encoded data removed]",
      "text/plain": [
       "<Figure size 432x288 with 1 Axes>"
      ]
     },
     "metadata": {
      "needs_background": "light"
     },
     "output_type": "display_data"
    }
   ],
   "source": [
    "metrics.plot_roc_curve(svc_radial, X_test_scaled, y_test) \n",
    "plt.show();"
   ]
  },
  {
   "cell_type": "code",
   "execution_count": 74,
   "id": "03e0637f-a87e-4c7e-a215-24818da76ccc",
   "metadata": {},
   "outputs": [
    {
     "name": "stdout",
     "output_type": "stream",
     "text": [
      "Training results: {'Logistic regression': 0.8903667335926716, 'SVC linear': 0.8906804492408081, 'SVC radial': 0.90211867862969}\n",
      "{'Logistic regression': 0.8865815493735101, 'SVC linear': 0.8909029792031189, 'SVC radial': 0.8963032986131498}\n"
     ]
    }
   ],
   "source": [
    "# Saving the results\n",
    "y_pred = svc_radial.predict(X_train_scaled)\n",
    "train_results[\"SVC radial\"] = balanced_accuracy_score(y_train,y_pred)\n",
    "y_pred = svc_radial.predict(X_test_scaled)\n",
    "test_results[\"SVC radial\"] = balanced_accuracy_score(y_test,y_pred)\n",
    "print(f\"Training results: {train_results}\")\n",
    "print(test_results)"
   ]
  },
  {
   "cell_type": "code",
   "execution_count": 75,
   "id": "9761366d-84f8-4f75-985c-bdb42e31669a",
   "metadata": {},
   "outputs": [],
   "source": [
    "# Classification report\n",
    "y_pred = svc_radial.predict(X_test_scaled)\n",
    "report_svc_radial = classification_report(y_test,y_pred,labels=[0,1])"
   ]
  },
  {
   "cell_type": "code",
   "execution_count": 76,
   "id": "8854c0dc-13d4-40e7-8284-714b30eb8e1f",
   "metadata": {},
   "outputs": [
    {
     "name": "stdout",
     "output_type": "stream",
     "text": [
      "              precision    recall  f1-score   support\n",
      "\n",
      "           0       0.98      0.99      0.99      2542\n",
      "           1       0.93      0.80      0.86       268\n",
      "\n",
      "    accuracy                           0.98      2810\n",
      "   macro avg       0.96      0.90      0.92      2810\n",
      "weighted avg       0.97      0.98      0.97      2810\n",
      "\n"
     ]
    }
   ],
   "source": [
    "print(report_svc_radial)"
   ]
  },
  {
   "cell_type": "markdown",
   "id": "c65c9166-d508-449a-8250-96c034c51e23",
   "metadata": {},
   "source": [
    "### Polynomial kernel"
   ]
  },
  {
   "cell_type": "code",
   "execution_count": 77,
   "id": "6b5c6477-7632-45b3-9530-68930ba7f52f",
   "metadata": {},
   "outputs": [
    {
     "name": "stdout",
     "output_type": "stream",
     "text": [
      "Training accuracy: 0.8572465961852178\n",
      "Test accuracy: 0.8402377373557077\n"
     ]
    }
   ],
   "source": [
    "svc_poly = SVC(kernel='poly',degree=2)\n",
    "svc_poly.fit(X_train_scaled, y_train)\n",
    "\n",
    "# Training and testing scores\n",
    "y_pred = svc_poly.predict(X_train_scaled)\n",
    "print(f\"Training accuracy: {balanced_accuracy_score(y_train,y_pred)}\")\n",
    "y_pred = svc_poly.predict(X_test_scaled)\n",
    "print(f\"Test accuracy: {balanced_accuracy_score(y_test,y_pred)}\")\n"
   ]
  },
  {
   "cell_type": "code",
   "execution_count": 78,
   "id": "f3e78da5-2a07-4de6-8620-8df93534cc31",
   "metadata": {},
   "outputs": [
    {
     "name": "stdout",
     "output_type": "stream",
     "text": [
      "Training accuracy: 0.9088054492408082\n",
      "Test accuracy: 0.9054349613067627\n",
      "CPU times: user 2min 31s, sys: 0 ns, total: 2min 31s\n",
      "Wall time: 2min 31s\n"
     ]
    }
   ],
   "source": [
    "%%time\n",
    "# 1st round\n",
    "\n",
    "# Grid search for optimal parameters\n",
    "tuned_parameters = [{'C': [0.5,1.0,2.0],\n",
    "                     'gamma': [0.5, 1, 2]}]\n",
    "svc_poly = GridSearchCV(SVC(kernel='poly', coef0=1, degree=2), \n",
    "                   param_grid=tuned_parameters, \n",
    "                   cv=10,\n",
    "                   refit=True,\n",
    "                   scoring='balanced_accuracy')\n",
    "svc_poly.fit(X_train_scaled, y_train)\n",
    "y_pred = svc_poly.predict(X_train_scaled)\n",
    "print(f\"Training accuracy: {balanced_accuracy_score(y_train,y_pred)}\")\n",
    "y_pred = svc_poly.predict(X_test_scaled)\n",
    "print(f\"Test accuracy: {balanced_accuracy_score(y_test,y_pred)}\")"
   ]
  },
  {
   "cell_type": "code",
   "execution_count": 79,
   "id": "89d024eb-ebb2-4d10-97ff-164f83b9492b",
   "metadata": {},
   "outputs": [
    {
     "data": {
      "text/plain": [
       "{'C': 1.0, 'gamma': 2}"
      ]
     },
     "execution_count": 79,
     "metadata": {},
     "output_type": "execute_result"
    }
   ],
   "source": [
    "# Best parameters\n",
    "svc_poly.best_params_"
   ]
  },
  {
   "cell_type": "code",
   "execution_count": null,
   "id": "83318b79-0e2f-46b5-96e1-18456d8059d0",
   "metadata": {},
   "outputs": [],
   "source": [
    "%%time\n",
    "# 2nd round\n",
    "\n",
    "# Grid search for optimal parameters\n",
    "tuned_parameters = [{'C': [0.9,1.0,1.1],\n",
    "                     'gamma': [1.9, 2, 2.1]}]\n",
    "svc_poly = GridSearchCV(SVC(kernel='poly', coef0=1, degree=2), \n",
    "                   param_grid=tuned_parameters, \n",
    "                   cv=10,\n",
    "                   refit=True,\n",
    "                   scoring='balanced_accuracy')\n",
    "svc_poly.fit(X_train_scaled, y_train)\n",
    "y_pred = svc_poly.predict(X_train_scaled)\n",
    "print(f\"Training accuracy: {balanced_accuracy_score(y_train,y_pred)}\")\n",
    "y_pred = svc_poly.predict(X_test_scaled)\n",
    "print(f\"Test accuracy: {balanced_accuracy_score(y_test,y_pred)}\")"
   ]
  },
  {
   "cell_type": "code",
   "execution_count": null,
   "id": "3943e0c0-a253-4c42-9a1a-8b6a6c905199",
   "metadata": {},
   "outputs": [],
   "source": [
    "# Best parameters\n",
    "svc_poly.best_params_"
   ]
  },
  {
   "cell_type": "code",
   "execution_count": null,
   "id": "4ee7d5c0-7027-4c62-9bdf-4b8b6f197e75",
   "metadata": {},
   "outputs": [],
   "source": [
    "# Confusion matrix on the training set\n",
    "print_report(svc_poly,X_train_scaled,y_train)"
   ]
  },
  {
   "cell_type": "code",
   "execution_count": null,
   "id": "ebbc1dad-edaa-4982-bd46-c88fcc9204f5",
   "metadata": {},
   "outputs": [],
   "source": [
    "# Confusion matrix on the test set\n",
    "print_report(svc_poly,X_test_scaled,y_test)"
   ]
  },
  {
   "cell_type": "code",
   "execution_count": null,
   "id": "5c2e558c-a52a-4015-82de-9cbe47dfb10d",
   "metadata": {},
   "outputs": [],
   "source": [
    "# Saving the results\n",
    "y_pred = svc_poly.predict(X_train_scaled)\n",
    "train_results[\"SVC polynomial\"] = balanced_accuracy_score(y_train,y_pred)\n",
    "y_pred = svc_poly.predict(X_test_scaled)\n",
    "test_results[\"SVC polynomial\"] = balanced_accuracy_score(y_test,y_pred)\n",
    "print(train_results)\n",
    "print(test_results)"
   ]
  },
  {
   "cell_type": "code",
   "execution_count": null,
   "id": "2635b394-a3a0-4205-854c-92e35c9002b8",
   "metadata": {},
   "outputs": [],
   "source": [
    "# Classification report\n",
    "y_pred = svc_poly.predict(X_test_scaled)\n",
    "report_svc_poly = classification_report(y_test,y_pred,labels=[0,1])"
   ]
  },
  {
   "cell_type": "code",
   "execution_count": null,
   "id": "382cb355-2af7-462a-a62e-8daee6558374",
   "metadata": {},
   "outputs": [],
   "source": [
    "print(report_svc_poly)"
   ]
  },
  {
   "cell_type": "code",
   "execution_count": null,
   "id": "50f3e6f2-82da-41f5-b519-e9e9152c4028",
   "metadata": {},
   "outputs": [],
   "source": [
    "metrics.plot_roc_curve(svc_poly, X_test_scaled, y_test) \n",
    "plt.show();"
   ]
  },
  {
   "cell_type": "markdown",
   "id": "b22a21df-a0a8-4e56-90ab-12daeba30e55",
   "metadata": {},
   "source": [
    "## 2. Random forest"
   ]
  },
  {
   "cell_type": "code",
   "execution_count": null,
   "id": "f639729c-02a4-41de-843c-a1aee4f19bc1",
   "metadata": {},
   "outputs": [],
   "source": [
    "from sklearn.ensemble import RandomForestClassifier\n",
    "import numpy as np"
   ]
  },
  {
   "cell_type": "code",
   "execution_count": null,
   "id": "51475c57-2450-45f1-80f8-5e0c7be1f6c9",
   "metadata": {},
   "outputs": [],
   "source": [
    "%%time\n",
    "results = {}\n",
    "importances = {}\n",
    "X_names = column_names\n",
    "for n_estimators in np.arange(10,200,10):\n",
    "    print(n_estimators)\n",
    "    random_forest_temp = RandomForestClassifier(n_estimators = n_estimators, random_state = 17)\n",
    "    random_forest_temp.fit(X_train_scaled, y_train)\n",
    "    y_pred_train = random_forest_temp.predict(X_train_scaled)\n",
    "    y_pred_test = random_forest_temp.predict(X_test_scaled)\n",
    "    results[n_estimators] = [ balanced_accuracy_score(y_train,y_pred_train),balanced_accuracy_score(y_test,y_pred_test)]\n",
    "    feature_importance = pd.Series(random_forest_temp.feature_importances_,index = X_names).sort_values(ascending=False)\n",
    "    importances[n_estimators] = feature_importance"
   ]
  },
  {
   "cell_type": "code",
   "execution_count": null,
   "id": "5a4b2f31-c05d-47b2-9ed4-de614c775ac2",
   "metadata": {},
   "outputs": [],
   "source": [
    "np.arange(10,200,10)"
   ]
  },
  {
   "cell_type": "code",
   "execution_count": null,
   "id": "a398f175-bfb3-424a-b503-4a985a74778a",
   "metadata": {},
   "outputs": [],
   "source": [
    "results"
   ]
  },
  {
   "cell_type": "code",
   "execution_count": null,
   "id": "bff6f6c4-d8dd-4deb-8a5f-113041db7c4f",
   "metadata": {},
   "outputs": [],
   "source": [
    "# Converting the results to a numpy array\n",
    "results_array = np.array(list(results.values()))"
   ]
  },
  {
   "cell_type": "code",
   "execution_count": null,
   "id": "bd8fdbe7-a603-45e4-bf7c-2be9415d7a96",
   "metadata": {},
   "outputs": [],
   "source": [
    "plt.figure(figsize=(7,7))\n",
    "plt.plot(list(results.keys()),results_array[:,0],label=\"Training score\")\n",
    "plt.plot(list(results.keys()),results_array[:,1],label=\"Testing score\")\n",
    "plt.legend()\n",
    "plt.show()"
   ]
  },
  {
   "cell_type": "markdown",
   "id": "1066037d-f39f-47fb-887a-47bbfcdf7363",
   "metadata": {},
   "source": [
    "**Conclusion:**\n",
    "\n",
    "The maximum testing score is at `n_estimators = 130`"
   ]
  },
  {
   "cell_type": "code",
   "execution_count": null,
   "id": "1276cb76-e82a-4230-b188-7326cba5b71a",
   "metadata": {},
   "outputs": [],
   "source": [
    "importances[130]"
   ]
  },
  {
   "cell_type": "code",
   "execution_count": null,
   "id": "e6705850-5a5b-4d8f-beb4-10ff028aaf37",
   "metadata": {},
   "outputs": [],
   "source": [
    "importance=importances[130]\n",
    "x = np.arange(1,9)\n",
    "plt.bar(x,importance,tick_label = importance.keys())\n",
    "plt.xticks(rotation=90)\n",
    "plt.title('Feature importances')\n",
    "plt.show()"
   ]
  },
  {
   "cell_type": "code",
   "execution_count": null,
   "id": "6bebeb0a-f3ce-4366-a6fe-dece1c3502ad",
   "metadata": {},
   "outputs": [],
   "source": [
    "# Confusion matrix on the training set\n",
    "random_forest_temp = RandomForestClassifier(n_estimators = 130, random_state = 17)\n",
    "random_forest_temp.fit(X_train_scaled,y_train)\n",
    "print_report(random_forest_temp, X_train_scaled, y_train)"
   ]
  },
  {
   "cell_type": "code",
   "execution_count": null,
   "id": "95637c94-410d-412e-9709-5da4a84ac228",
   "metadata": {},
   "outputs": [],
   "source": [
    "# Confusion matrix on the test set\n",
    "print_report(random_forest_temp, X_test_scaled, y_test)"
   ]
  },
  {
   "cell_type": "code",
   "execution_count": null,
   "id": "f004d206-455a-42bb-b170-81fffb2a52d6",
   "metadata": {},
   "outputs": [],
   "source": [
    "# Saving the results\n",
    "train_results[\"Random forest\"] = results[130][0]\n",
    "test_results[\"Random forest\"] = results[130][1]\n",
    "print(train_results)\n",
    "print(test_results)"
   ]
  },
  {
   "cell_type": "code",
   "execution_count": null,
   "id": "89e484c9-ccd8-49f2-8deb-3673e1810c3d",
   "metadata": {},
   "outputs": [],
   "source": [
    "# Classification report\n",
    "y_pred = random_forest_temp.predict(X_test_scaled)\n",
    "report_random_forest_temp = classification_report(y_test,y_pred,labels=[0,1])\n",
    "print(report_random_forest_temp)"
   ]
  },
  {
   "cell_type": "code",
   "execution_count": null,
   "id": "be7dad10-4cbc-418b-932e-1bf1b0e15b92",
   "metadata": {},
   "outputs": [],
   "source": [
    "balanced_accuracy_score(y_test,y_pred)"
   ]
  },
  {
   "cell_type": "code",
   "execution_count": null,
   "id": "608244b3-dcac-40e6-a1a1-d8710986c040",
   "metadata": {},
   "outputs": [],
   "source": [
    "metrics.plot_roc_curve(random_forest_temp, X_test_scaled, y_test) \n",
    "plt.show();"
   ]
  },
  {
   "cell_type": "markdown",
   "id": "bd9921ac-ff57-4024-b5a8-74ba3b9d455f",
   "metadata": {},
   "source": [
    "## 3. XGBoost"
   ]
  },
  {
   "cell_type": "code",
   "execution_count": null,
   "id": "0ce27c17-ecb6-4253-8412-151bbdd5a1e7",
   "metadata": {},
   "outputs": [],
   "source": [
    "import xgboost as xgb\n",
    "from sklearn.metrics import accuracy_score"
   ]
  },
  {
   "cell_type": "code",
   "execution_count": null,
   "id": "2427355c-3d72-49f2-82fa-0717e9f85b9c",
   "metadata": {},
   "outputs": [],
   "source": [
    "# Train the model\n",
    "model_xgb = xgb.XGBClassifier(use_label_encoder=False,objective=\"binary:logistic\")\n",
    "model_xgb.fit(X_train_scaled, y_train,eval_metric=\"auc\")\n",
    "# Training and testing scores\n",
    "y_pred_train = model_xgb.predict(X_train_scaled)\n",
    "y_pred_test = model_xgb.predict(X_test_scaled)\n",
    "print(f\"Training accuracy: {balanced_accuracy_score(y_train,y_pred_train)}\")\n",
    "print(f\"Test accuracy: {balanced_accuracy_score(y_test,y_pred_test)}\")"
   ]
  },
  {
   "cell_type": "code",
   "execution_count": null,
   "id": "8432caf7-f8c8-459c-91e9-1343dc056bb1",
   "metadata": {},
   "outputs": [],
   "source": [
    "# Feature importance\n",
    "importance = pd.Series(model_xgb.feature_importances_,index = X_names).sort_values(ascending=False)\n",
    "x = np.arange(1,9)\n",
    "plt.bar(x,importance,tick_label = importance.keys())\n",
    "plt.xticks(rotation=90)\n",
    "plt.title('Feature importances')\n",
    "plt.show()"
   ]
  },
  {
   "cell_type": "code",
   "execution_count": null,
   "id": "557037a7-1eec-4040-b2df-7bd9ee9a64cc",
   "metadata": {},
   "outputs": [],
   "source": [
    "# confusion matrix on the training set\n",
    "print_report(model_xgb, X_train_scaled, y_train)"
   ]
  },
  {
   "cell_type": "code",
   "execution_count": null,
   "id": "846a4abc-7310-4eba-95a5-2f14e8d25d6c",
   "metadata": {},
   "outputs": [],
   "source": [
    "# confusion matrix on the test set\n",
    "print_report(model_xgb, X_test_scaled, y_test)"
   ]
  },
  {
   "cell_type": "code",
   "execution_count": null,
   "id": "5ea0e08c-175f-40a8-bbe9-67ede72fe131",
   "metadata": {},
   "outputs": [],
   "source": [
    "%%time\n",
    "# 1st round\n",
    "\n",
    "# Grid search for optimal parameters\n",
    "tuned_parameters = {\n",
    "        'min_child_weight': [1, 5],\n",
    "        'gamma': [0, 5],\n",
    "        'subsample': [0, 0.5, 1.0],\n",
    "        'colsample_bytree': [0.2, 0.5, 1.0],\n",
    "        'max_depth': [4, 6]\n",
    "        }\n",
    "xgb_cv = GridSearchCV(xgb.XGBClassifier(use_label_encoder=False,objective=\"binary:logistic\"), \n",
    "                   param_grid=tuned_parameters, \n",
    "                   cv=10,\n",
    "                   refit=True,\n",
    "                   scoring='balanced_accuracy')\n",
    "xgb_cv.fit(X_train_scaled, y_train,eval_metric=\"auc\")\n",
    "y_pred = xgb_cv.predict(X_train_scaled)\n",
    "print(f\"Training accuracy: {balanced_accuracy_score(y_train,y_pred)}\")\n",
    "y_pred = xgb_cv.predict(X_test_scaled)\n",
    "print(f\"Test accuracy: {balanced_accuracy_score(y_test,y_pred)}\")"
   ]
  },
  {
   "cell_type": "code",
   "execution_count": null,
   "id": "4aea40c1-ca83-42df-9901-f20a1e686009",
   "metadata": {},
   "outputs": [],
   "source": [
    "# Best parameters\n",
    "xgb_cv.best_params_"
   ]
  },
  {
   "cell_type": "code",
   "execution_count": null,
   "id": "03e9dcb2-f6f8-46d0-bc1c-e6f1f560105e",
   "metadata": {},
   "outputs": [],
   "source": [
    "# confusion matrix on the test set\n",
    "print_report(xgb_cv, X_test_scaled, y_test)"
   ]
  },
  {
   "cell_type": "code",
   "execution_count": null,
   "id": "8982c999-3ebe-4bca-bef1-c866d459fcd9",
   "metadata": {},
   "outputs": [],
   "source": [
    "%%time\n",
    "# 2nd round\n",
    "\n",
    "# Grid search for optimal parameters\n",
    "tuned_parameters = {\n",
    "        'min_child_weight': [5, 10, 15],\n",
    "        'gamma': [0, 0.1, 0.2],\n",
    "        'subsample': [0.7, 0.8, 0.9, 1.0],\n",
    "        'colsample_bytree': [0.8, 0.9, 1.0],\n",
    "        'max_depth': [6]\n",
    "        }\n",
    "xgb_cv = GridSearchCV(xgb.XGBClassifier(use_label_encoder=False,objective=\"binary:logistic\"), \n",
    "                   param_grid=tuned_parameters, \n",
    "                   cv=10,\n",
    "                   refit=True,\n",
    "                   scoring='balanced_accuracy')\n",
    "xgb_cv.fit(X_train_scaled, y_train,eval_metric=\"auc\")\n",
    "y_pred = xgb_cv.predict(X_train_scaled)\n",
    "print(f\"Training accuracy: {balanced_accuracy_score(y_train,y_pred)}\")\n",
    "y_pred = xgb_cv.predict(X_test_scaled)\n",
    "print(f\"Test accuracy: {balanced_accuracy_score(y_test,y_pred)}\")"
   ]
  },
  {
   "cell_type": "code",
   "execution_count": null,
   "id": "ed1229e0-135f-4ae5-9ca9-2c960644c460",
   "metadata": {},
   "outputs": [],
   "source": [
    "# Best parameters\n",
    "xgb_cv.best_params_"
   ]
  },
  {
   "cell_type": "code",
   "execution_count": null,
   "id": "eb5c62f4-1457-46f4-bdcb-3abc4e5357d8",
   "metadata": {},
   "outputs": [],
   "source": [
    "# confusion matrix on the test set\n",
    "print_report(xgb_cv, X_test_scaled, y_test)"
   ]
  },
  {
   "cell_type": "code",
   "execution_count": null,
   "id": "c5b58e65-5365-43d3-977b-d7c46cdaaaa4",
   "metadata": {
    "tags": []
   },
   "outputs": [],
   "source": [
    "# Saving the results\n",
    "y_pred = xgb_cv.predict(X_train_scaled)\n",
    "train_results[\"XGBoost\"] = balanced_accuracy_score(y_train,y_pred)\n",
    "y_pred = xgb_cv.predict(X_test_scaled)\n",
    "test_results[\"XGBoost\"] = balanced_accuracy_score(y_test,y_pred)\n",
    "print(train_results)\n",
    "print(test_results)"
   ]
  },
  {
   "cell_type": "code",
   "execution_count": null,
   "id": "43208048-fe4a-4600-9c7b-94a00826c681",
   "metadata": {
    "tags": []
   },
   "outputs": [],
   "source": [
    "# Classification report\n",
    "y_pred = xgb_cv.predict(X_test_scaled)\n",
    "report_xgb = classification_report(y_test,y_pred,labels=[0,1])\n",
    "print(report_xgb)"
   ]
  },
  {
   "cell_type": "markdown",
   "id": "4c5cf2ea-3e0e-4365-a2c0-e407ad1ea930",
   "metadata": {},
   "source": [
    "## Conclusion\n"
   ]
  },
  {
   "cell_type": "code",
   "execution_count": null,
   "id": "ba91ad66-de50-4981-83b0-cb0dfb31f499",
   "metadata": {},
   "outputs": [],
   "source": [
    "training_df = pd.DataFrame.from_dict(train_results,orient='index',columns=[\"Training balanced acc.\"])\n",
    "testing_df = pd.DataFrame.from_dict(test_results,orient='index',columns=[\"Testing balanced acc.\"])\n",
    "results_df = pd.concat([training_df,testing_df],axis=1)"
   ]
  },
  {
   "cell_type": "code",
   "execution_count": null,
   "id": "d73f337f-8916-4592-909e-d7935ab64e56",
   "metadata": {},
   "outputs": [],
   "source": [
    "results_df"
   ]
  },
  {
   "cell_type": "code",
   "execution_count": null,
   "id": "75624e6b-3fbf-4251-bfb5-c45e38689aa7",
   "metadata": {},
   "outputs": [],
   "source": [
    "results_df.plot(kind='bar',figsize=(7,7))\n",
    "plt.xticks(rotation=90);"
   ]
  },
  {
   "cell_type": "markdown",
   "id": "3e52cf42-1930-46d9-93a5-4e9c26c0e515",
   "metadata": {},
   "source": [
    "**Conclusion**: the best model with the chosen score (highest balanced accuracy on the test set) is **XGBoost**.\n",
    "\n"
   ]
  },
  {
   "cell_type": "markdown",
   "id": "01f25c5d-c901-44bd-ad28-192c0d333d45",
   "metadata": {},
   "source": [
    "# III. Other type of tuning for the imbalanced dataset problem\n",
    "\n",
    "We'll use here some extra tricks to tweak the `XGBoost` model.\n",
    "We're going to oversample the minor class by `SMOTE`."
   ]
  },
  {
   "cell_type": "markdown",
   "id": "13fdbb7c-6b33-416e-bb82-c89672b6c295",
   "metadata": {},
   "source": [
    "## Oversampling\n",
    "\n",
    "It can cause problems, that the dataset is imbalanced. That's why we use SMOTE for oversampling the minority class."
   ]
  },
  {
   "cell_type": "code",
   "execution_count": null,
   "id": "14ee3ced-9c2f-463a-bf49-f3eae5373877",
   "metadata": {},
   "outputs": [],
   "source": [
    "df_train.head()"
   ]
  },
  {
   "cell_type": "code",
   "execution_count": null,
   "id": "a1f64f8e-fe60-4fe0-af16-2c1326adc5a7",
   "metadata": {},
   "outputs": [],
   "source": [
    "#!pip install imblearn"
   ]
  },
  {
   "cell_type": "code",
   "execution_count": null,
   "id": "d55ddcb0-e639-4804-aee1-8b2d08549eaa",
   "metadata": {},
   "outputs": [],
   "source": [
    "from imblearn.over_sampling import SMOTE"
   ]
  },
  {
   "cell_type": "code",
   "execution_count": null,
   "id": "f8cf5818-46be-471b-92ac-0f48a8858a8c",
   "metadata": {},
   "outputs": [],
   "source": [
    "sm = SMOTE(sampling_strategy='minority', random_state=7)"
   ]
  },
  {
   "cell_type": "code",
   "execution_count": null,
   "id": "415d7a44-bd4d-41a7-b67c-5b202ddd7dfd",
   "metadata": {},
   "outputs": [],
   "source": [
    "oversampled_train_X, oversampled_train_y = sm.fit_resample(df_train.drop('target_class', axis=1), df_train['target_class'])"
   ]
  },
  {
   "cell_type": "code",
   "execution_count": null,
   "id": "3883c01d-c6ab-4555-b2f3-c2b48b0c84e3",
   "metadata": {},
   "outputs": [],
   "source": [
    "oversampled_train_y.sum(), len(oversampled_train_y)"
   ]
  },
  {
   "cell_type": "code",
   "execution_count": null,
   "id": "138daa39-2b15-454e-a320-0c04d4808301",
   "metadata": {},
   "outputs": [],
   "source": [
    "df_train = pd.concat([oversampled_train_y, oversampled_train_X],axis=1)\n",
    "df_train.head()"
   ]
  },
  {
   "cell_type": "markdown",
   "id": "a462884a-edbe-4e8c-88f6-7519fea9b438",
   "metadata": {},
   "source": [
    "## Standardizing\n",
    "\n",
    "We've to standardizing again."
   ]
  },
  {
   "cell_type": "code",
   "execution_count": null,
   "id": "de821b9b-7cbb-4ae8-ac1c-03461267a06d",
   "metadata": {},
   "outputs": [],
   "source": [
    "X_train_oversampled_scaled = df_train.drop([\"target_class\"], axis=1)\n",
    "y_train = df_train[\"target_class\"]\n",
    "X_test_oversampled_scaled = X_test.copy()"
   ]
  },
  {
   "cell_type": "code",
   "execution_count": null,
   "id": "ced98834-0e24-4dce-b36f-668919f938d1",
   "metadata": {},
   "outputs": [],
   "source": [
    "for column in column_names:\n",
    "    mean_ = X_train_oversampled_scaled[column].mean()\n",
    "    std_ = X_train_oversampled_scaled[column].std()\n",
    "    X_train_oversampled_scaled[column] = (X_train_oversampled_scaled[column] - mean_)/std_\n",
    "    X_test_oversampled_scaled[column] = (X_test_oversampled_scaled[column] - mean_)/std_\n",
    "    \n",
    "X_train_oversampled_scaled.head()"
   ]
  },
  {
   "cell_type": "code",
   "execution_count": null,
   "id": "16788916-5085-4c21-970b-d3828fedf3a4",
   "metadata": {},
   "outputs": [],
   "source": [
    "type(X_train_oversampled_scaled)"
   ]
  },
  {
   "cell_type": "code",
   "execution_count": null,
   "id": "956dd67b-68c9-4d43-ae80-6abc869ffcfb",
   "metadata": {},
   "outputs": [],
   "source": [
    "training_set = pd.concat([X_train_oversampled_scaled,y_train],axis=1)"
   ]
  },
  {
   "cell_type": "code",
   "execution_count": null,
   "id": "b3ab6ece-c37e-488f-a6a3-a83a2fec40f7",
   "metadata": {},
   "outputs": [],
   "source": [
    "training_set = training_set.sample(frac=1).reset_index(drop=True)"
   ]
  },
  {
   "cell_type": "code",
   "execution_count": null,
   "id": "61bf741d-4386-4aba-bbe5-79fb937e6213",
   "metadata": {},
   "outputs": [],
   "source": [
    "training_set.head()"
   ]
  },
  {
   "cell_type": "code",
   "execution_count": null,
   "id": "f1982b36-72f0-4063-8496-4ee1278aa05f",
   "metadata": {},
   "outputs": [],
   "source": []
  },
  {
   "cell_type": "code",
   "execution_count": null,
   "id": "b9af4b59-3a9d-42b0-afbe-2099dafe45f6",
   "metadata": {},
   "outputs": [],
   "source": []
  },
  {
   "cell_type": "markdown",
   "id": "b24b96cc-e4c6-452e-80f4-ccc896ded20f",
   "metadata": {},
   "source": [
    "### Saving the dataset"
   ]
  },
  {
   "cell_type": "code",
   "execution_count": null,
   "id": "47c763ac-631e-4697-97c5-fca98f02e4d0",
   "metadata": {
    "tags": []
   },
   "outputs": [],
   "source": [
    "#training_set = pd.concat([X_train_oversampled_scaled,y_train],axis=1)\n",
    "print(f\"Training set size: {len(training_set)}\")\n",
    "print(f\"Positive samples in the training set: {len(training_set.loc[training_set['target_class']==1])}\")\n",
    "testing_set = pd.concat([X_test_oversampled_scaled,y_test],axis=1)\n",
    "print(f\"Testing set size: {len(testing_set)}\")\n",
    "print(f\"Positive samples in the testing set: {len(testing_set.loc[testing_set['target_class']==1])}\")\n",
    "data_oversampled_scaled = pd.concat([training_set,testing_set],axis=0)"
   ]
  },
  {
   "cell_type": "code",
   "execution_count": null,
   "id": "792d7a3c-0046-4b30-9109-bb0008a92900",
   "metadata": {},
   "outputs": [],
   "source": [
    "data_oversampled_scaled.to_csv('data_oversampled_scaled.csv',header=False,index=False)"
   ]
  },
  {
   "cell_type": "code",
   "execution_count": null,
   "id": "7d1ee29e-a1a0-4257-af04-9b0cfcc5761f",
   "metadata": {},
   "outputs": [],
   "source": [
    "len(data_oversampled_scaled)"
   ]
  },
  {
   "cell_type": "markdown",
   "id": "15ee5a13-85ae-4368-af87-34fcfc065a1e",
   "metadata": {},
   "source": [
    "## XGBoost\n",
    "\n",
    "Since the dataset is balanced, we can use standard `accuracy` for scoring."
   ]
  },
  {
   "cell_type": "code",
   "execution_count": null,
   "id": "0d453e3c-5df0-4e86-9a3c-c10587129f67",
   "metadata": {},
   "outputs": [],
   "source": [
    "%%time\n",
    "# 1st round\n",
    "\n",
    "# Grid search for optimal parameters\n",
    "tuned_parameters = {\n",
    "        'min_child_weight': [1, 5],\n",
    "        'gamma': [0, 5],\n",
    "        'subsample': [0.5, 1.0],\n",
    "        'colsample_bytree': [0.5, 1.0],\n",
    "        'max_depth': [6,8,10]\n",
    "        }\n",
    "xgb_cv = GridSearchCV(xgb.XGBClassifier(use_label_encoder=False,objective=\"binary:logistic\"), \n",
    "                   param_grid=tuned_parameters, \n",
    "                   cv=10,\n",
    "                   refit=True,\n",
    "                   scoring='accuracy')\n",
    "xgb_cv.fit(X_train_oversampled_scaled, y_train,eval_metric=\"auc\")\n",
    "y_pred = xgb_cv.predict(X_train_oversampled_scaled)\n",
    "print(f\"Training accuracy: {balanced_accuracy_score(y_train,y_pred)}\")\n",
    "y_pred = xgb_cv.predict(X_test_oversampled_scaled)\n",
    "print(f\"Test accuracy: {balanced_accuracy_score(y_test,y_pred)}\")"
   ]
  },
  {
   "cell_type": "code",
   "execution_count": null,
   "id": "3dac1ea7-7bb0-4d69-af99-019ce0a60916",
   "metadata": {},
   "outputs": [],
   "source": [
    "# Best parameters\n",
    "xgb_cv.best_params_"
   ]
  },
  {
   "cell_type": "code",
   "execution_count": null,
   "id": "19cdecb2-a6e7-4291-872a-5e2fb965f919",
   "metadata": {},
   "outputs": [],
   "source": [
    "# Confusion matrix on the training set\n",
    "print_report(xgb_cv,X_train_oversampled_scaled,y_train)"
   ]
  },
  {
   "cell_type": "code",
   "execution_count": null,
   "id": "ba87bca7-dba7-4165-86dd-c988e7294e03",
   "metadata": {},
   "outputs": [],
   "source": [
    "# Confusion matrix on the test set\n",
    "print_report(xgb_cv,X_test_oversampled_scaled,y_test)"
   ]
  },
  {
   "cell_type": "code",
   "execution_count": null,
   "id": "7726d6ed-fb1f-4f02-857e-0bfcc688c98c",
   "metadata": {},
   "outputs": [],
   "source": [
    "%%time\n",
    "# 2nd round\n",
    "\n",
    "# Grid search for optimal parameters\n",
    "tuned_parameters = {\n",
    "        'min_child_weight': [1,2],\n",
    "        'gamma': [0,0.1,0.2],\n",
    "        'subsample': [0.8, 0.9, 1.0],\n",
    "        'colsample_bytree': [0.8, 0.9, 1.0],\n",
    "        'max_depth': [6,8,10]\n",
    "        }\n",
    "xgb_cv = GridSearchCV(xgb.XGBClassifier(use_label_encoder=False,objective=\"binary:logistic\"), \n",
    "                   param_grid=tuned_parameters, \n",
    "                   cv=10,\n",
    "                   refit=True,\n",
    "                   scoring='accuracy')\n",
    "xgb_cv.fit(X_train_oversampled_scaled, y_train,eval_metric=\"auc\")\n",
    "y_pred = xgb_cv.predict(X_train_oversampled_scaled)\n",
    "print(f\"Training accuracy: {balanced_accuracy_score(y_train,y_pred)}\")\n",
    "y_pred = xgb_cv.predict(X_test_oversampled_scaled)\n",
    "print(f\"Test accuracy: {balanced_accuracy_score(y_test,y_pred)}\")"
   ]
  },
  {
   "cell_type": "code",
   "execution_count": null,
   "id": "b2ca12a3-a775-42bc-896b-0e7732a6f8d0",
   "metadata": {},
   "outputs": [],
   "source": [
    "# Best parameters\n",
    "xgb_cv.best_params_"
   ]
  },
  {
   "cell_type": "code",
   "execution_count": null,
   "id": "cfeeb825-fa73-4201-bcd5-63b20499f714",
   "metadata": {},
   "outputs": [],
   "source": [
    "# Confusion matrix on the test set\n",
    "print_report(xgb_cv,X_test_oversampled_scaled,y_test)"
   ]
  },
  {
   "cell_type": "code",
   "execution_count": null,
   "id": "e79ab373-5e98-4e37-8faf-7689fc34c61b",
   "metadata": {},
   "outputs": [],
   "source": [
    "metrics.plot_roc_curve(xgb_cv, X_test_oversampled_scaled, y_test) \n",
    "plt.show();"
   ]
  },
  {
   "cell_type": "markdown",
   "id": "d77028c6-8837-46b3-958a-f2f0762f1b1b",
   "metadata": {},
   "source": [
    "## Conclusion"
   ]
  },
  {
   "cell_type": "markdown",
   "id": "4b4d843e-4698-4b64-a9e8-67d6ccc4ccfc",
   "metadata": {},
   "source": [
    "There are fewer false negatives in the oversampled case, but more false positives. This is useful, as it makes it less likely that a real pulsar will be identified as a non-pulsar. The accuracy is in overall very similar, but in the oversampled case it's a little smaller."
   ]
  },
  {
   "cell_type": "code",
   "execution_count": null,
   "id": "4d1a2202-0589-47b4-a603-8a61e99df721",
   "metadata": {},
   "outputs": [],
   "source": []
  },
  {
   "cell_type": "code",
   "execution_count": null,
   "id": "c1bdd13a-919e-47d8-b4e2-d9a3f765c5cc",
   "metadata": {},
   "outputs": [],
   "source": []
  }
 ],
 "metadata": {
  "kernelspec": {
   "display_name": "Python 3 (ipykernel)",
   "language": "python",
   "name": "python3"
  },
  "language_info": {
   "codemirror_mode": {
    "name": "ipython",
    "version": 3
   },
   "file_extension": ".py",
   "mimetype": "text/x-python",
   "name": "python",
   "nbconvert_exporter": "python",
   "pygments_lexer": "ipython3",
   "version": "3.9.7"
  }
 },
 "nbformat": 4,
 "nbformat_minor": 5
}
